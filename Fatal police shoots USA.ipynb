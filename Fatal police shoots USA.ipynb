{
 "cells": [
  {
   "cell_type": "markdown",
   "id": "unusual-holly",
   "metadata": {},
   "source": [
    "# Lorenzo Bussotti project: data manipulation and visualization\n",
    "\n",
    "\n",
    "Course: data science \n",
    "\n",
    "\n",
    "Online school: 'Start2Impact'\n",
    "\n",
    "\n",
    "Question: is there a correlation between the victims killed by police and the rise of racism in the USA?\n"
   ]
  },
  {
   "cell_type": "markdown",
   "id": "reasonable-respondent",
   "metadata": {},
   "source": [
    " "
   ]
  },
  {
   "cell_type": "markdown",
   "id": "wrong-experience",
   "metadata": {},
   "source": [
    "In order to unravel the possible racial bias, I am going to use the dataset made by Washingtion Post concerning the fatal police shoots during the period 2015-2021 in the United States. This dataset has been created after Micheal Brown kill in Ferguson, which gave birth to Black Lives Matter movement.\n",
    "Furthermore, I'll be using others dataset such those on the percentage of high school completion, the rate of poverty, the 2016 US election and lastly the one about race and age by state."
   ]
  },
  {
   "cell_type": "markdown",
   "id": "induced-object",
   "metadata": {},
   "source": [
    "Preface: most of the scientific community agrees on the evidence that human races don't genetically exist.\n",
    "The genetic difference were found at the individual level (85%) and cannot be related to population mutations (only 15%).\n",
    "Indeed, race is a preconcept and a statement that may defines cultural differences among groups of people, as this article explains:\n",
    "https://www.eurekalert.org/pub_releases/1998-10/WUiS-GSRD-071098.php#"
   ]
  },
  {
   "cell_type": "markdown",
   "id": "present-report",
   "metadata": {},
   "source": [
    "Despite this relevant evidence, for an easier understanding of the analysis, I will keep the name 'race' to indicate that variable.\n",
    "\n",
    "My work is going to focus on the possible bias that US policemen may have shown in their actions!"
   ]
  },
  {
   "cell_type": "code",
   "execution_count": 1,
   "id": "joint-stocks",
   "metadata": {},
   "outputs": [],
   "source": [
    "import pandas as pd\n",
    "import seaborn as sns\n",
    "import matplotlib.pyplot as plt\n",
    "import numpy as np\n",
    "import os \n"
   ]
  },
  {
   "cell_type": "code",
   "execution_count": 4,
   "id": "judicial-toddler",
   "metadata": {},
   "outputs": [],
   "source": [
    "os.chdir(r'../data_folder')"
   ]
  },
  {
   "cell_type": "markdown",
   "id": "sunset-secondary",
   "metadata": {},
   "source": [
    "Down here I upload the main dataset and print the informations"
   ]
  },
  {
   "cell_type": "code",
   "execution_count": 238,
   "id": "concrete-default",
   "metadata": {},
   "outputs": [
    {
     "data": {
      "text/html": [
       "<div>\n",
       "<style scoped>\n",
       "    .dataframe tbody tr th:only-of-type {\n",
       "        vertical-align: middle;\n",
       "    }\n",
       "\n",
       "    .dataframe tbody tr th {\n",
       "        vertical-align: top;\n",
       "    }\n",
       "\n",
       "    .dataframe thead th {\n",
       "        text-align: right;\n",
       "    }\n",
       "</style>\n",
       "<table border=\"1\" class=\"dataframe\">\n",
       "  <thead>\n",
       "    <tr style=\"text-align: right;\">\n",
       "      <th></th>\n",
       "      <th>id</th>\n",
       "      <th>name</th>\n",
       "      <th>manner_of_death</th>\n",
       "      <th>armed</th>\n",
       "      <th>age</th>\n",
       "      <th>gender</th>\n",
       "      <th>race</th>\n",
       "      <th>city</th>\n",
       "      <th>state</th>\n",
       "      <th>signs_of_mental_illness</th>\n",
       "      <th>threat_level</th>\n",
       "      <th>flee</th>\n",
       "      <th>body_camera</th>\n",
       "      <th>longitude</th>\n",
       "      <th>latitude</th>\n",
       "      <th>is_geocoding_exact</th>\n",
       "    </tr>\n",
       "    <tr>\n",
       "      <th>date</th>\n",
       "      <th></th>\n",
       "      <th></th>\n",
       "      <th></th>\n",
       "      <th></th>\n",
       "      <th></th>\n",
       "      <th></th>\n",
       "      <th></th>\n",
       "      <th></th>\n",
       "      <th></th>\n",
       "      <th></th>\n",
       "      <th></th>\n",
       "      <th></th>\n",
       "      <th></th>\n",
       "      <th></th>\n",
       "      <th></th>\n",
       "      <th></th>\n",
       "    </tr>\n",
       "  </thead>\n",
       "  <tbody>\n",
       "    <tr>\n",
       "      <th>2015-01-02</th>\n",
       "      <td>3</td>\n",
       "      <td>Tim Elliot</td>\n",
       "      <td>shot</td>\n",
       "      <td>gun</td>\n",
       "      <td>53.0</td>\n",
       "      <td>M</td>\n",
       "      <td>A</td>\n",
       "      <td>Shelton</td>\n",
       "      <td>WA</td>\n",
       "      <td>True</td>\n",
       "      <td>attack</td>\n",
       "      <td>Not fleeing</td>\n",
       "      <td>False</td>\n",
       "      <td>-123.122</td>\n",
       "      <td>47.247</td>\n",
       "      <td>True</td>\n",
       "    </tr>\n",
       "    <tr>\n",
       "      <th>2015-01-02</th>\n",
       "      <td>4</td>\n",
       "      <td>Lewis Lee Lembke</td>\n",
       "      <td>shot</td>\n",
       "      <td>gun</td>\n",
       "      <td>47.0</td>\n",
       "      <td>M</td>\n",
       "      <td>W</td>\n",
       "      <td>Aloha</td>\n",
       "      <td>OR</td>\n",
       "      <td>False</td>\n",
       "      <td>attack</td>\n",
       "      <td>Not fleeing</td>\n",
       "      <td>False</td>\n",
       "      <td>-122.892</td>\n",
       "      <td>45.487</td>\n",
       "      <td>True</td>\n",
       "    </tr>\n",
       "    <tr>\n",
       "      <th>2015-01-03</th>\n",
       "      <td>5</td>\n",
       "      <td>John Paul Quintero</td>\n",
       "      <td>shot and Tasered</td>\n",
       "      <td>unarmed</td>\n",
       "      <td>23.0</td>\n",
       "      <td>M</td>\n",
       "      <td>H</td>\n",
       "      <td>Wichita</td>\n",
       "      <td>KS</td>\n",
       "      <td>False</td>\n",
       "      <td>other</td>\n",
       "      <td>Not fleeing</td>\n",
       "      <td>False</td>\n",
       "      <td>-97.281</td>\n",
       "      <td>37.695</td>\n",
       "      <td>True</td>\n",
       "    </tr>\n",
       "    <tr>\n",
       "      <th>2015-01-04</th>\n",
       "      <td>8</td>\n",
       "      <td>Matthew Hoffman</td>\n",
       "      <td>shot</td>\n",
       "      <td>toy weapon</td>\n",
       "      <td>32.0</td>\n",
       "      <td>M</td>\n",
       "      <td>W</td>\n",
       "      <td>San Francisco</td>\n",
       "      <td>CA</td>\n",
       "      <td>True</td>\n",
       "      <td>attack</td>\n",
       "      <td>Not fleeing</td>\n",
       "      <td>False</td>\n",
       "      <td>-122.422</td>\n",
       "      <td>37.763</td>\n",
       "      <td>True</td>\n",
       "    </tr>\n",
       "    <tr>\n",
       "      <th>2015-01-04</th>\n",
       "      <td>9</td>\n",
       "      <td>Michael Rodriguez</td>\n",
       "      <td>shot</td>\n",
       "      <td>nail gun</td>\n",
       "      <td>39.0</td>\n",
       "      <td>M</td>\n",
       "      <td>H</td>\n",
       "      <td>Evans</td>\n",
       "      <td>CO</td>\n",
       "      <td>False</td>\n",
       "      <td>attack</td>\n",
       "      <td>Not fleeing</td>\n",
       "      <td>False</td>\n",
       "      <td>-104.692</td>\n",
       "      <td>40.384</td>\n",
       "      <td>True</td>\n",
       "    </tr>\n",
       "  </tbody>\n",
       "</table>\n",
       "</div>"
      ],
      "text/plain": [
       "            id                name   manner_of_death       armed   age gender  \\\n",
       "date                                                                            \n",
       "2015-01-02   3          Tim Elliot              shot         gun  53.0      M   \n",
       "2015-01-02   4    Lewis Lee Lembke              shot         gun  47.0      M   \n",
       "2015-01-03   5  John Paul Quintero  shot and Tasered     unarmed  23.0      M   \n",
       "2015-01-04   8     Matthew Hoffman              shot  toy weapon  32.0      M   \n",
       "2015-01-04   9   Michael Rodriguez              shot    nail gun  39.0      M   \n",
       "\n",
       "           race           city state  signs_of_mental_illness threat_level  \\\n",
       "date                                                                         \n",
       "2015-01-02    A        Shelton    WA                     True       attack   \n",
       "2015-01-02    W          Aloha    OR                    False       attack   \n",
       "2015-01-03    H        Wichita    KS                    False        other   \n",
       "2015-01-04    W  San Francisco    CA                     True       attack   \n",
       "2015-01-04    H          Evans    CO                    False       attack   \n",
       "\n",
       "                   flee  body_camera  longitude  latitude  is_geocoding_exact  \n",
       "date                                                                           \n",
       "2015-01-02  Not fleeing        False   -123.122    47.247                True  \n",
       "2015-01-02  Not fleeing        False   -122.892    45.487                True  \n",
       "2015-01-03  Not fleeing        False    -97.281    37.695                True  \n",
       "2015-01-04  Not fleeing        False   -122.422    37.763                True  \n",
       "2015-01-04  Not fleeing        False   -104.692    40.384                True  "
      ]
     },
     "execution_count": 238,
     "metadata": {},
     "output_type": "execute_result"
    }
   ],
   "source": [
    "#first I import the dataset using the \"read csv\" pandas function\n",
    "kills = pd.read_csv('fatal_police_shootings_data.csv', \n",
    "                 parse_dates=True,\n",
    "                 index_col='date') # indexing the dates\n",
    "\n",
    "#then I visualize the first 5 rows\n",
    "kills.head()"
   ]
  },
  {
   "cell_type": "code",
   "execution_count": 74,
   "id": "discrete-cameroon",
   "metadata": {},
   "outputs": [
    {
     "name": "stdout",
     "output_type": "stream",
     "text": [
      "<class 'pandas.core.frame.DataFrame'>\n",
      "DatetimeIndex: 6061 entries, 2015-01-02 to 2021-02-16\n",
      "Data columns (total 16 columns):\n",
      " #   Column                   Non-Null Count  Dtype  \n",
      "---  ------                   --------------  -----  \n",
      " 0   id                       6061 non-null   int64  \n",
      " 1   name                     5844 non-null   object \n",
      " 2   manner_of_death          6061 non-null   object \n",
      " 3   armed                    5853 non-null   object \n",
      " 4   age                      5797 non-null   float64\n",
      " 5   gender                   6060 non-null   object \n",
      " 6   race                     5477 non-null   object \n",
      " 7   city                     6061 non-null   object \n",
      " 8   state                    6061 non-null   object \n",
      " 9   signs_of_mental_illness  6061 non-null   bool   \n",
      " 10  threat_level             6061 non-null   object \n",
      " 11  flee                     5713 non-null   object \n",
      " 12  body_camera              6061 non-null   bool   \n",
      " 13  longitude                5767 non-null   float64\n",
      " 14  latitude                 5767 non-null   float64\n",
      " 15  is_geocoding_exact       6061 non-null   bool   \n",
      "dtypes: bool(3), float64(3), int64(1), object(9)\n",
      "memory usage: 680.7+ KB\n"
     ]
    }
   ],
   "source": [
    "kills.info()"
   ]
  },
  {
   "cell_type": "code",
   "execution_count": 239,
   "id": "pretty-louisville",
   "metadata": {},
   "outputs": [],
   "source": [
    "#replace the abbreviation with the whole name\n",
    "kills['race'] = kills['race'].replace(['B','A', 'W', 'O', 'H', 'N'], \n",
    "                                ['Black', 'Asian', 'White', 'Other', 'Hispanic', 'Native America'])"
   ]
  },
  {
   "cell_type": "markdown",
   "id": "vital-ottawa",
   "metadata": {},
   "source": [
    "Let's define a time series of the people killed by the police until the end of 2020.\n",
    "\n",
    "The figure 1 shows how the total kills have dropped in the 2016, to extremely rise in 2017.\n",
    "In the years 2018, 2019 and 2020 the kills have increased, even if not so drastically."
   ]
  },
  {
   "cell_type": "code",
   "execution_count": 12,
   "id": "atomic-timothy",
   "metadata": {},
   "outputs": [
    {
     "data": {
      "text/plain": [
       "Text(0.5, 1.0, 'Figure 1: time series of total murders by police')"
      ]
     },
     "execution_count": 12,
     "metadata": {},
     "output_type": "execute_result"
    },
    {
     "data": {
      "image/png": "[encoded data removed]",
      "text/plain": [
       "<Figure size 1080x360 with 1 Axes>"
      ]
     },
     "metadata": {
      "needs_background": "light"
     },
     "output_type": "display_data"
    }
   ],
   "source": [
    "grouped = kills.groupby(['date'])['state'].count()# how many kills each day\n",
    "kills_year = grouped.resample('Y').sum() #Let's sum the numbers obtained for each year\n",
    "plt.figure(figsize=(15,5))\n",
    "plt.plot(kills_year[:'2020'], marker='o',label='Number of kills at the end of the year')\n",
    "plt.ylabel('Number of kills')\n",
    "plt.xlabel('Year')\n",
    "plt.title('Figure 1: time series of total murders by police')"
   ]
  },
  {
   "cell_type": "markdown",
   "id": "potential-seattle",
   "metadata": {},
   "source": [
    " "
   ]
  },
  {
   "cell_type": "markdown",
   "id": "ideal-humidity",
   "metadata": {},
   "source": [
    "Down here (figure 2), the time series about 'races' kills trade.\n",
    "\n",
    "The supposed racial prejudge of police against blacks is not evident. "
   ]
  },
  {
   "cell_type": "code",
   "execution_count": 8,
   "id": "crazy-promise",
   "metadata": {},
   "outputs": [],
   "source": [
    "k= pd.get_dummies(kills.race) #create a new DF with only the count of kills for each race\n",
    "kills_1= pd.merge(kills,k, on='date')"
   ]
  },
  {
   "cell_type": "code",
   "execution_count": 9,
   "id": "appointed-designer",
   "metadata": {},
   "outputs": [],
   "source": [
    "kills_1= kills_1.reset_index()\n",
    "kills_1['year'] = pd.DatetimeIndex(kills_1['date']).year"
   ]
  },
  {
   "cell_type": "code",
   "execution_count": 16,
   "id": "multiple-exhibit",
   "metadata": {},
   "outputs": [
    {
     "data": {
      "text/plain": [
       "Text(0, 0.5, 'kills')"
      ]
     },
     "execution_count": 16,
     "metadata": {},
     "output_type": "execute_result"
    },
    {
     "data": {
      "image/png": "[encoded data removed]",
      "text/plain": [
       "<Figure size 1080x432 with 1 Axes>"
      ]
     },
     "metadata": {
      "needs_background": "light"
     },
     "output_type": "display_data"
    }
   ],
   "source": [
    "group = kills_1.groupby(['year']).aggregate(np.sum)[:-1]#group the dataset by the year. Remove the current year (2021)\n",
    "plt.figure(figsize=(15,6))\n",
    "#represent the time series of each 'race'\n",
    "sns.lineplot(data=group[['White', 'Black', 'Hispanic', 'Asian', 'Native America', 'Other']], markers=True)\n",
    "plt.title('Figure 2: time series of kills per race ', color=\"darkred\",fontsize = 15)\n",
    "plt.legend(title='Race', bbox_to_anchor=(1.01, 1),borderaxespad=0) #move the legend outside the figure\n",
    "plt.ylabel('kills')"
   ]
  },
  {
   "cell_type": "markdown",
   "id": "secure-minute",
   "metadata": {},
   "source": [
    " "
   ]
  },
  {
   "cell_type": "markdown",
   "id": "instrumental-killer",
   "metadata": {},
   "source": [
    "Now count how many deaths per 'race'!\n",
    "\n",
    "What do we get from the figure 3? That people with white skin have been the most killed by police.\n",
    "However, these are absolute numbers: I should relate the kills with the total population for each group."
   ]
  },
  {
   "cell_type": "code",
   "execution_count": 8,
   "id": "wicked-smile",
   "metadata": {},
   "outputs": [
    {
     "name": "stderr",
     "output_type": "stream",
     "text": [
      "C:\\Users\\busse\\anaconda3\\lib\\site-packages\\seaborn\\_decorators.py:36: FutureWarning: Pass the following variable as a keyword arg: x. From version 0.12, the only valid positional argument will be `data`, and passing other arguments without an explicit keyword will result in an error or misinterpretation.\n",
      "  warnings.warn(\n"
     ]
    },
    {
     "data": {
      "text/plain": [
       "Text(0.5, 1.0, 'Figure 3: total number of kills per race')"
      ]
     },
     "execution_count": 8,
     "metadata": {},
     "output_type": "execute_result"
    },
    {
     "data": {
      "image/png": "[encoded data removed]",
      "text/plain": [
       "<Figure size 720x432 with 1 Axes>"
      ]
     },
     "metadata": {
      "needs_background": "light"
     },
     "output_type": "display_data"
    }
   ],
   "source": [
    "#order it in term of number of kills\n",
    "order_by_group = kills['race'].value_counts().index\n",
    "label_race = kills['race'].value_counts(normalize=True).round(decimals=3)\n",
    "plt.figure(figsize=(10,6))\n",
    "splot = sns.countplot('race', data=kills, order=order_by_group) \n",
    "for p in splot.patches:\n",
    "    splot.annotate(format(p.get_height()), \n",
    "                   (p.get_x() + p.get_width() / 2., p.get_height()), \n",
    "                   ha = 'center', va = 'center', \n",
    "                   xytext = (0, 9), \n",
    "                   textcoords = 'offset points') #show the value above the bars\n",
    "plt.xlabel('group of people')\n",
    "plt.ylabel('kills')\n",
    "plt.title('Figure 3: total number of kills per race')\n"
   ]
  },
  {
   "cell_type": "markdown",
   "id": "direct-anchor",
   "metadata": {},
   "source": [
    " "
   ]
  },
  {
   "cell_type": "markdown",
   "id": "extraordinary-there",
   "metadata": {},
   "source": [
    "    "
   ]
  },
  {
   "cell_type": "markdown",
   "id": "enhanced-extreme",
   "metadata": {},
   "source": [
    "Let's analyze the difference between genders into groups of people.\n",
    "Evidently, male gender is the one involved in worst criminal offences (https://www.bjs.gov/index.cfm?ty=tp&tid=955).\n",
    "\n",
    "Males are the most killed by police, within all the group of people (figure 4)!"
   ]
  },
  {
   "cell_type": "code",
   "execution_count": 9,
   "id": "analyzed-marshall",
   "metadata": {},
   "outputs": [
    {
     "data": {
      "text/plain": [
       "Text(0.5, 1.0, 'Figure 4: difference between male and female for each race')"
      ]
     },
     "execution_count": 9,
     "metadata": {},
     "output_type": "execute_result"
    },
    {
     "data": {
      "image/png": "[encoded data removed]",
      "text/plain": [
       "<Figure size 720x432 with 1 Axes>"
      ]
     },
     "metadata": {
      "needs_background": "light"
     },
     "output_type": "display_data"
    }
   ],
   "source": [
    "plt.figure(figsize=(10,6))\n",
    "sns.countplot(x='race', hue='gender', data=kills) #plotting the kills among 'races', marking the difference between genders\n",
    "plt.ylabel('kills')\n",
    "plt.title('Figure 4: difference between male and female for each race')"
   ]
  },
  {
   "cell_type": "markdown",
   "id": "requested-washer",
   "metadata": {},
   "source": [
    " "
   ]
  },
  {
   "cell_type": "markdown",
   "id": "potential-stroke",
   "metadata": {},
   "source": [
    "             "
   ]
  },
  {
   "cell_type": "markdown",
   "id": "subject-disposal",
   "metadata": {},
   "source": [
    "Now, I want to find how many kills for each 'race' have been recorded by police officers with the body camera!\n",
    "\n",
    "Figure 5 shows that the body camera was held only few times. No evidence of racism were found!"
   ]
  },
  {
   "cell_type": "code",
   "execution_count": 64,
   "id": "continent-requirement",
   "metadata": {},
   "outputs": [
    {
     "data": {
      "text/plain": [
       "Text(0.5, 1.0, 'Figure 5: body camera recorded kills per race')"
      ]
     },
     "execution_count": 64,
     "metadata": {},
     "output_type": "execute_result"
    },
    {
     "data": {
      "image/png": "[encoded data removed]",
      "text/plain": [
       "<Figure size 720x432 with 1 Axes>"
      ]
     },
     "metadata": {
      "needs_background": "light"
     },
     "output_type": "display_data"
    }
   ],
   "source": [
    "plt.figure(figsize=(10,6))\n",
    "c = sns.countplot(x='race', hue='body_camera', data=kills) \n",
    "for p in c.patches:\n",
    "    c.annotate(format(p.get_height()), \n",
    "       (p.get_x() + p.get_width() / 2., p.get_height()), \n",
    "       ha = 'center', va = 'center', \n",
    "       xytext = (0, 9), \n",
    "       textcoords = 'offset points')\n",
    "plt.ylabel('kills')\n",
    "plt.title('Figure 5: body camera recorded kills per race')"
   ]
  },
  {
   "cell_type": "markdown",
   "id": "continent-century",
   "metadata": {},
   "source": [
    "Now, let's create a dataframe that contains data about the signs of mental illness (true or false), the level of the threat (attack, other or undetermined) and body camera (true or false), for the cases of black victims.\n"
   ]
  },
  {
   "cell_type": "code",
   "execution_count": 47,
   "id": "seven-allen",
   "metadata": {},
   "outputs": [
    {
     "data": {
      "text/html": [
       "<div>\n",
       "<style scoped>\n",
       "    .dataframe tbody tr th:only-of-type {\n",
       "        vertical-align: middle;\n",
       "    }\n",
       "\n",
       "    .dataframe tbody tr th {\n",
       "        vertical-align: top;\n",
       "    }\n",
       "\n",
       "    .dataframe thead th {\n",
       "        text-align: right;\n",
       "    }\n",
       "</style>\n",
       "<table border=\"1\" class=\"dataframe\">\n",
       "  <thead>\n",
       "    <tr style=\"text-align: right;\">\n",
       "      <th></th>\n",
       "      <th>race</th>\n",
       "      <th>signs_of_mental_illness</th>\n",
       "      <th>threat_level</th>\n",
       "      <th>body_camera</th>\n",
       "    </tr>\n",
       "    <tr>\n",
       "      <th>date</th>\n",
       "      <th></th>\n",
       "      <th></th>\n",
       "      <th></th>\n",
       "      <th></th>\n",
       "    </tr>\n",
       "  </thead>\n",
       "  <tbody>\n",
       "    <tr>\n",
       "      <th>2015-01-02</th>\n",
       "      <td>Asian</td>\n",
       "      <td>True</td>\n",
       "      <td>attack</td>\n",
       "      <td>False</td>\n",
       "    </tr>\n",
       "    <tr>\n",
       "      <th>2015-01-02</th>\n",
       "      <td>White</td>\n",
       "      <td>False</td>\n",
       "      <td>attack</td>\n",
       "      <td>False</td>\n",
       "    </tr>\n",
       "    <tr>\n",
       "      <th>2015-01-03</th>\n",
       "      <td>Hispanic</td>\n",
       "      <td>False</td>\n",
       "      <td>other</td>\n",
       "      <td>False</td>\n",
       "    </tr>\n",
       "    <tr>\n",
       "      <th>2015-01-04</th>\n",
       "      <td>White</td>\n",
       "      <td>True</td>\n",
       "      <td>attack</td>\n",
       "      <td>False</td>\n",
       "    </tr>\n",
       "    <tr>\n",
       "      <th>2015-01-04</th>\n",
       "      <td>Hispanic</td>\n",
       "      <td>False</td>\n",
       "      <td>attack</td>\n",
       "      <td>False</td>\n",
       "    </tr>\n",
       "  </tbody>\n",
       "</table>\n",
       "</div>"
      ],
      "text/plain": [
       "                race  signs_of_mental_illness threat_level  body_camera\n",
       "date                                                                   \n",
       "2015-01-02     Asian                     True       attack        False\n",
       "2015-01-02     White                    False       attack        False\n",
       "2015-01-03  Hispanic                    False        other        False\n",
       "2015-01-04     White                     True       attack        False\n",
       "2015-01-04  Hispanic                    False       attack        False"
      ]
     },
     "execution_count": 47,
     "metadata": {},
     "output_type": "execute_result"
    }
   ],
   "source": [
    "#a = kills.groupby(['date','race','signs_of_mental_illness','threat_level' ,'body_camera']).count()['armed']\n",
    "kills_2=kills.reset_index()\n",
    "a = kills_2[['date','race', 'signs_of_mental_illness', 'threat_level','body_camera']]\n",
    "\n",
    "a=a.set_index('date')\n",
    "a.head()"
   ]
  },
  {
   "cell_type": "code",
   "execution_count": 48,
   "id": "animated-aircraft",
   "metadata": {},
   "outputs": [],
   "source": [
    "a['race'] = a['race'].fillna(0.0)\n",
    "k= pd.get_dummies(a.race) #create a new DF with only the count of kills for each race"
   ]
  },
  {
   "cell_type": "code",
   "execution_count": 49,
   "id": "standard-myrtle",
   "metadata": {},
   "outputs": [],
   "source": [
    "ak = pd.merge(a,k, on='date')"
   ]
  },
  {
   "cell_type": "markdown",
   "id": "electronic-mountain",
   "metadata": {},
   "source": [
    "The visual analysis of the figure 6a, 6b and 6c highlighted that police killed a highest number of people with not using the body camera; further, in the majority of the cases the victims didn't demonstrate insanity problems of the victims, despite the policemen affirmed to be under attack.\n",
    "Similarly, if we enlarge the analysis to the white kills, we found no different results in the comparison with black victims and then, isn't possible to define the prejudge of the police.\n",
    "\n",
    "Hereby, it is assumable that police always prefers to kill without the confirmation of the camera and therefore, without the proof of mental instability or threats. \n",
    "Indeed, the difference between the kills occurred without the camera (data = false) is significantly higher than the difference between the killings with a camera (data = true), both for cases of mental illness and level of threat.\n",
    "\n",
    "Since, this representation of data don't show racial bias, these data can be possibly interpreted a form of abuse of power."
   ]
  },
  {
   "cell_type": "code",
   "execution_count": 239,
   "id": "obvious-adams",
   "metadata": {},
   "outputs": [
    {
     "data": {
      "text/plain": [
       "<matplotlib.legend.Legend at 0x282cb79f550>"
      ]
     },
     "execution_count": 239,
     "metadata": {},
     "output_type": "execute_result"
    },
    {
     "data": {
      "image/png": "[encoded data removed]",
      "text/plain": [
       "<Figure size 432x288 with 1 Axes>"
      ]
     },
     "metadata": {
      "needs_background": "light"
     },
     "output_type": "display_data"
    },
    {
     "data": {
      "image/png": "[encoded data removed]",
      "text/plain": [
       "<Figure size 432x288 with 1 Axes>"
      ]
     },
     "metadata": {
      "needs_background": "light"
     },
     "output_type": "display_data"
    },
    {
     "data": {
      "image/png": "[encoded data removed]",
      "text/plain": [
       "<Figure size 432x288 with 1 Axes>"
      ]
     },
     "metadata": {
      "needs_background": "light"
     },
     "output_type": "display_data"
    }
   ],
   "source": [
    "#black cases\n",
    "ak.groupby(['threat_level', 'body_camera']).agg({'Black':lambda x: np.sum(x)}).unstack().plot.bar()\n",
    "plt.title('Figure 6a: black victims by threat level and body camera records')\n",
    "plt.xticks(rotation=0)\n",
    "plt.legend(title='body_camera')\n",
    "ak.groupby(['signs_of_mental_illness', 'body_camera']).agg({'Black':lambda x: np.sum(x)}).unstack().plot.bar()\n",
    "plt.title('Figure 6b: black victims by mental illness and body camera records')\n",
    "plt.xticks(rotation=0)\n",
    "plt.legend(title='body_camera')\n",
    "ak.groupby(['signs_of_mental_illness', 'threat_level']).agg({'Black':lambda x: np.sum(x)}).unstack().plot.bar()\n",
    "plt.title('Figure 6c: black victims by mental illness and the type of threats')\n",
    "plt.xticks(rotation=0)\n",
    "plt.legend(title='threat level')\n"
   ]
  },
  {
   "cell_type": "code",
   "execution_count": 51,
   "id": "small-teaching",
   "metadata": {},
   "outputs": [
    {
     "data": {
      "text/plain": [
       "<matplotlib.legend.Legend at 0x2eaa4c5ffd0>"
      ]
     },
     "execution_count": 51,
     "metadata": {},
     "output_type": "execute_result"
    },
    {
     "data": {
      "image/png": "[encoded data removed]",
      "text/plain": [
       "<Figure size 432x288 with 1 Axes>"
      ]
     },
     "metadata": {
      "needs_background": "light"
     },
     "output_type": "display_data"
    },
    {
     "data": {
      "image/png": "[encoded data removed]",
      "text/plain": [
       "<Figure size 432x288 with 1 Axes>"
      ]
     },
     "metadata": {
      "needs_background": "light"
     },
     "output_type": "display_data"
    },
    {
     "data": {
      "image/png": "[encoded data removed]",
      "text/plain": [
       "<Figure size 432x288 with 1 Axes>"
      ]
     },
     "metadata": {
      "needs_background": "light"
     },
     "output_type": "display_data"
    }
   ],
   "source": [
    "#white cases\n",
    "ak.groupby(['threat_level', 'body_camera']).agg({'White':lambda x: np.sum(x)}).unstack().plot.bar()\n",
    "plt.title('Figure 6d: white victims by threat level and body camera records')\n",
    "plt.xticks(rotation=0)\n",
    "plt.legend(title='body_camera')\n",
    "ak.groupby(['signs_of_mental_illness', 'body_camera']).agg({'White':lambda x: np.sum(x)}).unstack().plot.bar()\n",
    "plt.title('Figure 6e: white victims by mental illness and body camera records')\n",
    "plt.xticks(rotation=0)\n",
    "plt.legend(title='body_camera')\n",
    "ak.groupby(['signs_of_mental_illness', 'threat_level']).agg({'White':lambda x: np.sum(x)}).unstack().plot.bar()\n",
    "plt.title('Figure 6f: white victims by mental illness and the type of threats')\n",
    "plt.xticks(rotation=0)\n",
    "plt.legend(title='threat level')"
   ]
  },
  {
   "cell_type": "markdown",
   "id": "entitled-vertex",
   "metadata": {},
   "source": [
    " "
   ]
  },
  {
   "cell_type": "markdown",
   "id": "japanese-enough",
   "metadata": {},
   "source": [
    "     "
   ]
  },
  {
   "cell_type": "markdown",
   "id": "attended-pioneer",
   "metadata": {},
   "source": [
    "Now, describe the age of the people killed among the groups!    \n",
    "\n",
    "The greatest difference between age max and age min is own by white people.\n",
    "Curiously, the interval between max and min is very similar for asian, black and hispanic, despite that the median is different (figure 7)"
   ]
  },
  {
   "cell_type": "code",
   "execution_count": 12,
   "id": "sexual-barrel",
   "metadata": {},
   "outputs": [
    {
     "name": "stderr",
     "output_type": "stream",
     "text": [
      "C:\\Users\\busse\\anaconda3\\lib\\site-packages\\seaborn\\_decorators.py:36: FutureWarning: Pass the following variables as keyword args: x, y. From version 0.12, the only valid positional argument will be `data`, and passing other arguments without an explicit keyword will result in an error or misinterpretation.\n",
      "  warnings.warn(\n"
     ]
    },
    {
     "data": {
      "text/plain": [
       "Text(0.5, 1.0, 'Figure 7: age boxplot')"
      ]
     },
     "execution_count": 12,
     "metadata": {},
     "output_type": "execute_result"
    },
    {
     "data": {
      "image/png": "[encoded data removed]",
      "text/plain": [
       "<Figure size 720x432 with 1 Axes>"
      ]
     },
     "metadata": {
      "needs_background": "light"
     },
     "output_type": "display_data"
    }
   ],
   "source": [
    "plt.figure(figsize=(10,6))#boxplot shows: max, min, median, 1st and 3rd quartile \n",
    "sns.boxplot('race', 'age', data=kills, showfliers=False)#remove outliers\n",
    "plt.title('Figure 7: age boxplot', fontsize=15)"
   ]
  },
  {
   "cell_type": "markdown",
   "id": "charming-secret",
   "metadata": {},
   "source": [
    " "
   ]
  },
  {
   "cell_type": "markdown",
   "id": "periodic-parliament",
   "metadata": {},
   "source": [
    "The youngest person killed was Jeremy Mardis: he wasn't black but he was so young! Very sad.\n",
    "Here's the fact: https://en.wikipedia.org/wiki/Shooting_of_Jeremy_Mardis"
   ]
  },
  {
   "cell_type": "code",
   "execution_count": 23,
   "id": "beautiful-grill",
   "metadata": {},
   "outputs": [
    {
     "data": {
      "text/plain": [
       "id                                   980\n",
       "name                       Jeremy Mardis\n",
       "manner_of_death                     shot\n",
       "armed                            unarmed\n",
       "age                                    6\n",
       "gender                                 M\n",
       "race                               White\n",
       "city                          Marksville\n",
       "state                                 LA\n",
       "signs_of_mental_illness            False\n",
       "threat_level                       other\n",
       "flee                                 Car\n",
       "body_camera                         True\n",
       "longitude                         -92.05\n",
       "latitude                          31.125\n",
       "is_geocoding_exact                  True\n",
       "Name: 2015-11-03 00:00:00, dtype: object"
      ]
     },
     "execution_count": 23,
     "metadata": {},
     "output_type": "execute_result"
    }
   ],
   "source": [
    "kills.loc[kills['age'].idxmin()] "
   ]
  },
  {
   "cell_type": "markdown",
   "id": "about-organizer",
   "metadata": {},
   "source": [
    " "
   ]
  },
  {
   "cell_type": "markdown",
   "id": "distributed-original",
   "metadata": {},
   "source": [
    "Let's see the kills by the age intervals (figure 8).\n",
    "The highest number of murders happened to people who were between 30 and 34 years old."
   ]
  },
  {
   "cell_type": "code",
   "execution_count": 10,
   "id": "annual-nickel",
   "metadata": {},
   "outputs": [],
   "source": [
    "bins = ['0-4','5-9', '10-14','15-19','20-24','25-29','30-34',\n",
    "         '35-39','40-44','45-49', '50-54', '55-59', \n",
    "        '60-64', '65-69', '70-100']\n",
    "kills_1['age_bins'] = pd.cut(x=kills_1['age'], bins=[0, 5, 10, 15, 20, 25, 30, 35, 40, 45, 50, 55, 60, 65, 70, 100], \n",
    "                           labels=bins)\n",
    "#create new columns with age intervals\n",
    "kills_1=kills_1.dropna()"
   ]
  },
  {
   "cell_type": "code",
   "execution_count": 28,
   "id": "express-ebony",
   "metadata": {},
   "outputs": [
    {
     "data": {
      "text/plain": [
       "Text(0, 0.5, 'kills')"
      ]
     },
     "execution_count": 28,
     "metadata": {},
     "output_type": "execute_result"
    },
    {
     "data": {
      "image/png": "[encoded data removed]",
      "text/plain": [
       "<Figure size 1080x432 with 1 Axes>"
      ]
     },
     "metadata": {
      "needs_background": "light"
     },
     "output_type": "display_data"
    }
   ],
   "source": [
    "plt.figure(figsize=(15,6))\n",
    "sns.countplot(x='age_bins', data=kills_1) #I wanted to plot the intervals to see which range of age is the most killed\n",
    "plt.title('Figure 8: kills by age')\n",
    "plt.ylabel('kills')"
   ]
  },
  {
   "cell_type": "markdown",
   "id": "opened-resolution",
   "metadata": {},
   "source": [
    "Let's take a look the age among 'races'.\n",
    "From the figure 9a, we can exrapolate that black people are the most killed by police\n",
    "at the youngest age intervals, especially in the 15-19 and in 20-24 intervals. This data can be interpreted as a possible bias, mostly because black community is lower in terms of population size. \n",
    "Figure 9b and 9c confirms this assertion.\n",
    "\n",
    "In the last part of the project I will analyse the rate of kills by age and state, to verify which are the states most involved in young black victims!"
   ]
  },
  {
   "cell_type": "code",
   "execution_count": 25,
   "id": "narrative-relaxation",
   "metadata": {},
   "outputs": [
    {
     "data": {
      "image/png": "[encoded data removed]",
      "text/plain": [
       "<Figure size 1152x576 with 1 Axes>"
      ]
     },
     "metadata": {
      "needs_background": "light"
     },
     "output_type": "display_data"
    },
    {
     "data": {
      "image/png": "[encoded data removed]",
      "text/plain": [
       "<Figure size 472.75x360 with 1 Axes>"
      ]
     },
     "metadata": {
      "needs_background": "light"
     },
     "output_type": "display_data"
    },
    {
     "data": {
      "image/png": "[encoded data removed]",
      "text/plain": [
       "<Figure size 472.75x360 with 1 Axes>"
      ]
     },
     "metadata": {
      "needs_background": "light"
     },
     "output_type": "display_data"
    }
   ],
   "source": [
    "plt.figure(figsize=(16,8))\n",
    "sns.countplot(data=kills_1, x='age_bins', hue='race')\n",
    "plt.title('Figure 9a: countplot for age intervals by race')\n",
    "plt.legend(loc='upper right') \n",
    "plt.ylabel('kills')\n",
    "\n",
    "sns.displot(data=kills, x='age', hue='race', palette=\"bright\" )\n",
    "plt.title('Figure 9b: hist distribution of kills by age for each race', fontsize=10)\n",
    "plt.ylabel('kills')\n",
    "\n",
    "sns.displot(data=kills, x='age', hue='race', kind='kde')\n",
    "plt.title('Figure 9c: density distribution of kills by age for each race', fontsize=10) \n",
    "plt.ylabel('kills')\n",
    "\n",
    "plt.show()"
   ]
  },
  {
   "cell_type": "markdown",
   "id": "surgical-voltage",
   "metadata": {},
   "source": [
    " "
   ]
  },
  {
   "cell_type": "markdown",
   "id": "timely-drain",
   "metadata": {},
   "source": [
    "Which state have the highest number of kills, in terms of absolute numbers? \n",
    "California (figure 10)"
   ]
  },
  {
   "cell_type": "code",
   "execution_count": 235,
   "id": "declared-venue",
   "metadata": {},
   "outputs": [
    {
     "data": {
      "text/plain": [
       "Text(0.5, 0, 'states')"
      ]
     },
     "execution_count": 235,
     "metadata": {},
     "output_type": "execute_result"
    },
    {
     "data": {
      "image/png": "[encoded data removed]",
      "text/plain": [
       "<Figure size 720x504 with 1 Axes>"
      ]
     },
     "metadata": {
      "needs_background": "light"
     },
     "output_type": "display_data"
    }
   ],
   "source": [
    "state = kills.state.value_counts(normalize=True) #from absolute frequence to relative\n",
    "plt.figure(figsize=(10,7))\n",
    "sns.barplot(x=state[:5].index,y=state[:5].values)\n",
    "plt.title(\"Figure 10: states with highest deaths\",color=\"red\",fontsize = 15)\n",
    "plt.ylabel('kills (%)')\n",
    "plt.xlabel('states')"
   ]
  },
  {
   "cell_type": "markdown",
   "id": "jewish-doubt",
   "metadata": {},
   "source": [
    "Hispanic are the group of people with highest number of kills in California (figure 11). Still these are absolute numbers and can't be taken as correct data to describe the kills."
   ]
  },
  {
   "cell_type": "code",
   "execution_count": 18,
   "id": "expensive-steel",
   "metadata": {},
   "outputs": [
    {
     "data": {
      "text/plain": [
       "Text(0.5, 1.0, \"Figure 11: people killed in California ordered by 'race'\")"
      ]
     },
     "execution_count": 18,
     "metadata": {},
     "output_type": "execute_result"
    },
    {
     "data": {
      "image/png": "[encoded data removed]",
      "text/plain": [
       "<Figure size 720x504 with 1 Axes>"
      ]
     },
     "metadata": {
      "needs_background": "light"
     },
     "output_type": "display_data"
    }
   ],
   "source": [
    "race_by_states = kills[kills['state']=='CA']['race'].dropna().value_counts()\n",
    "plt.figure(figsize=(10,7))\n",
    "sns.barplot(x=race_by_states.index,y=race_by_states.values)\n",
    "plt.title(\"Figure 11: people killed in California ordered by 'race'\",color=\"red\",fontsize = 15)"
   ]
  },
  {
   "cell_type": "markdown",
   "id": "surprising-friendly",
   "metadata": {},
   "source": [
    "Black is the third group of people hit by police kills."
   ]
  },
  {
   "cell_type": "markdown",
   "id": "tracked-opportunity",
   "metadata": {},
   "source": [
    " "
   ]
  },
  {
   "cell_type": "markdown",
   "id": "ordered-houston",
   "metadata": {},
   "source": [
    "Which are the states with the highest number of black victims?\n",
    "\n",
    "California, Florida, Texas, Georgia, Louisiana (figure 12).\n",
    "\n",
    "Later, in the figure 19, we will see how the cases change if we analyze the rate of black kills per state: in fact, California is the first in terms of absolute number, but not in terms of kills rate."
   ]
  },
  {
   "cell_type": "code",
   "execution_count": 11,
   "id": "funny-powder",
   "metadata": {},
   "outputs": [
    {
     "data": {
      "text/plain": [
       "Text(0, 0.5, 'kills')"
      ]
     },
     "execution_count": 11,
     "metadata": {},
     "output_type": "execute_result"
    },
    {
     "data": {
      "image/png": "[encoded data removed]",
      "text/plain": [
       "<Figure size 720x504 with 1 Axes>"
      ]
     },
     "metadata": {
      "needs_background": "light"
     },
     "output_type": "display_data"
    }
   ],
   "source": [
    "black_states = kills[kills['race']=='Black']['state'].dropna().value_counts()\n",
    "plt.figure(figsize=(10,7))\n",
    "sns.barplot(x=black_states.index[:5],y=black_states.values[:5]) #choose the first 5 states\n",
    "plt.title(\"Figure 12: states with highest number of black victims\", color='darkgreen',fontsize = 15)\n",
    "plt.ylabel('kills')"
   ]
  },
  {
   "cell_type": "markdown",
   "id": "persistent-smile",
   "metadata": {},
   "source": [
    "Which californian city has the sad record of blacks killed by police (in absolute numbers)? Los Angeles (figure 13)"
   ]
  },
  {
   "cell_type": "code",
   "execution_count": 12,
   "id": "contrary-dairy",
   "metadata": {},
   "outputs": [
    {
     "data": {
      "text/plain": [
       "Text(0.5, 0, 'city')"
      ]
     },
     "execution_count": 12,
     "metadata": {},
     "output_type": "execute_result"
    },
    {
     "data": {
      "image/png": "[encoded data removed]",
      "text/plain": [
       "<Figure size 432x288 with 1 Axes>"
      ]
     },
     "metadata": {
      "needs_background": "light"
     },
     "output_type": "display_data"
    }
   ],
   "source": [
    "kills[(kills['race']=='Black')&(kills['state']=='CA')]['city'].value_counts().head().plot(kind='bar', ylabel='kills')\n",
    "plt.title('Figure 13: cities of California with highest number of black victim', fontsize='10')\n",
    "plt.xticks(rotation=0) #set the rotation of x-axis text\n",
    "plt.xlabel('city')"
   ]
  },
  {
   "cell_type": "markdown",
   "id": "governing-grocery",
   "metadata": {},
   "source": [
    "Now, let's find out the percentage of armed people!\n",
    "\n",
    "90% of people killed held a weapon, 6.4% were unarmed, while 3.4% held a toy weapon (figure 14).\n",
    "\n",
    "This result partially responded to the previous question: are the officers afraid or they act with abuse of power?\n",
    "\n",
    "The below graph may explain that they have been threated; anyway, the previous analysis (fig 6a and 6d) showed that the greatest part of supposed attacks by the criminals haven't been recorded and thus, the attack can't be proven by clear images."
   ]
  },
  {
   "cell_type": "code",
   "execution_count": 13,
   "id": "random-exemption",
   "metadata": {},
   "outputs": [
    {
     "data": {
      "image/png": "[encoded data removed]",
      "text/plain": [
       "<Figure size 432x288 with 1 Axes>"
      ]
     },
     "metadata": {},
     "output_type": "display_data"
    }
   ],
   "source": [
    "def armed_or_not(x): # in this case I wanted to create a function to apply to 'race' series\n",
    "    if x != 'unarmed' and x != 'toy weapon':\n",
    "        return 'armed'\n",
    "    if x == 'toy weapon':\n",
    "        return 'toy weapon'\n",
    "    else:\n",
    "        return 'unarmed'\n",
    "    \n",
    "armed_or_not = kills.armed.apply(armed_or_not).value_counts(normalize=True).round(decimals=3) #relative frequence (%) and reduce decimals\n",
    "plt.pie(x= armed_or_not.values, labels= armed_or_not.values ) #I did a pie chart: an other method to visualize\n",
    "plt.title('Figure 14: armed or unarmed (%)')\n",
    "plt.legend(armed_or_not.index, bbox_to_anchor=(1.01, 1),borderaxespad=0)\n",
    "plt.show()"
   ]
  },
  {
   "cell_type": "markdown",
   "id": "small-affiliation",
   "metadata": {},
   "source": [
    "Now, let's take a look how the people were armed, anlyzing the differences among 'races' (figure 15).\n",
    "\n",
    "The figure below shows how the police had a racial bias.\n",
    "In fact, white has the lowest rate of kills when unarmed."
   ]
  },
  {
   "cell_type": "code",
   "execution_count": 196,
   "id": "working-progressive",
   "metadata": {},
   "outputs": [],
   "source": [
    "armed = ['unarmed' if i == 'unarmed' else 'toy weapon' \n",
    "         if i=='toy weapon' else 'armed' for i in kills.armed]\n",
    "df_armed = pd.DataFrame({'level_of_threat': armed,\n",
    "                   'race':kills.race}) \n",
    "kills_3= df_armed.groupby('race').count()\n",
    "kills_3.columns= ['kills_per_race']\n",
    "kills_3 = kills_3.reset_index()"
   ]
  },
  {
   "cell_type": "code",
   "execution_count": 181,
   "id": "unknown-start",
   "metadata": {},
   "outputs": [],
   "source": [
    "unarmed = df_armed.loc[df_armed.level_of_threat=='unarmed'].groupby('race').count().values\n",
    "armed = df_armed.loc[df_armed.level_of_threat=='armed'].groupby('race').count().values"
   ]
  },
  {
   "cell_type": "code",
   "execution_count": 195,
   "id": "german-peoples",
   "metadata": {},
   "outputs": [
    {
     "data": {
      "image/png": "[encoded data removed]",
      "text/plain": [
       "<Figure size 720x360 with 1 Axes>"
      ]
     },
     "metadata": {
      "needs_background": "light"
     },
     "output_type": "display_data"
    }
   ],
   "source": [
    "kills_4 = pd.DataFrame({'race':kills_3.race,\n",
    "                      'kills_per_race':kills_3.kills_per_race})\n",
    "kills_4['unarmed'] = unarmed\n",
    "kills_4['armed'] = armed\n",
    "kills_4['%_unarmed'] = kills_4.unarmed/kills_4.kills_per_race*100\n",
    "kills_4['%_armed'] = kills_4.armed/kills_4.kills_per_race*100\n",
    "\n",
    "plt.figure(figsize=(10,5))\n",
    "sns.barplot(x='race', y='%_unarmed', data=kills_4)\n",
    "plt.title('Figure 15: % of unarmed by race')\n",
    "plt.show()"
   ]
  },
  {
   "cell_type": "markdown",
   "id": "premium-softball",
   "metadata": {},
   "source": [
    " "
   ]
  },
  {
   "cell_type": "markdown",
   "id": "significant-effort",
   "metadata": {},
   "source": [
    "Down below I created a new dataframe that contains the cases per race and the US subcultures population size; the latter has been obtained from: \n",
    "https://statisticalatlas.com/United-States/Race-and-Ethnicity.\n",
    "\n",
    "I took the average relative percent of each subculture (white, black, hispanic, native american, asian and other ) from 2015-2019"
   ]
  },
  {
   "cell_type": "code",
   "execution_count": 197,
   "id": "naval-retention",
   "metadata": {},
   "outputs": [],
   "source": [
    "count = kills.race.value_counts(normalize=True) #percentage of kill cases\n",
    "count.index = ['White', 'Black', 'Hispanic', 'Asian', 'Native American', 'Other']"
   ]
  },
  {
   "cell_type": "code",
   "execution_count": 202,
   "id": "choice-graham",
   "metadata": {},
   "outputs": [
    {
     "data": {
      "image/png": "[encoded data removed]",
      "text/plain": [
       "<Figure size 576x432 with 1 Axes>"
      ]
     },
     "metadata": {
      "needs_background": "light"
     },
     "output_type": "display_data"
    }
   ],
   "source": [
    "share_race_usa = pd.Series([62.0, 12.6, 2.3, 5.2, 16.9, 1.0],  #percentage of each race on US total popolation \n",
    "                                index=['White','Black','Mixed','Asian','Hispanic','Other'])\n",
    "\n",
    "count_races = count / share_race_usa *100 #relative frequence of cases based on total USA race percentage rate\n",
    "count_races = count_races.sort_values(ascending=False) #let's order the rate from the highest to the lowest\n",
    "\n",
    "f, ax = plt.subplots(1,1, figsize=(8,6))\n",
    "sns.barplot(y=count_races.index, x=count_races.values, palette='Greens_r') #palette to give to the bars a green shade\n",
    "ax.set(xlabel='Rate of kills', ylabel='Race',\n",
    "       title='Figure 16: cases (%) for each race on total USA race percentage rate')\n",
    "ax.grid(True, axis='x') #insert the grid for a better visualization"
   ]
  },
  {
   "cell_type": "markdown",
   "id": "appointed-infection",
   "metadata": {},
   "source": [
    "Despite all the previous analysis showed that white were the most killed, this new relative perspective give us an evidence of probable racial bias. BLACKS HAVE THE GREATEST RATE OF KILLS. \n",
    "White people occupy the fourth place in the 'killed by police' ranking; hispanic appears to be second to blacks, which may possibly confirm the racial prejudge.\n"
   ]
  },
  {
   "cell_type": "markdown",
   "id": "varying-cyprus",
   "metadata": {},
   "source": [
    "# Is there any poverty or educational bias?  "
   ]
  },
  {
   "cell_type": "markdown",
   "id": "measured-batch",
   "metadata": {},
   "source": [
    "In order to discover some more reason about these murders, I am going to analyze other social factors such as poverty and highschool completion.\n",
    "\n",
    "\n",
    "Let's import the database with rate of poverty and percentage of people above 25 years old who completed high school.\n",
    "The poverty rate is an index to calculate the proportion of people living below the poverty line. \n",
    "A poverty rate of 25 percent indicates that 25 people are categorized as poor, among a population of 100.\n",
    "Percentage of people over 25 who completed highschool indicates that the higher the rate, the greater the population who completed the highschool."
   ]
  },
  {
   "cell_type": "code",
   "execution_count": 207,
   "id": "forbidden-indicator",
   "metadata": {},
   "outputs": [],
   "source": [
    "poverty = pd.read_csv('PercentagePeopleBelowPovertyLevel.csv',\n",
    "                      encoding='iso-8859-1')\n",
    "highschool = pd.read_csv('PercentOver25CompletedHighSchool.csv', \n",
    "                     encoding='iso-8859-1')"
   ]
  },
  {
   "cell_type": "markdown",
   "id": "tropical-mobile",
   "metadata": {},
   "source": [
    "Let's merge the dataframes..."
   ]
  },
  {
   "cell_type": "code",
   "execution_count": 208,
   "id": "external-crest",
   "metadata": {},
   "outputs": [],
   "source": [
    "new_df = pd.merge(poverty,highschool) #merge the first two imported dataframes\n",
    "new_df.columns = ['state','city','poverty_rate','percent_completed_hs'] #rename the columns"
   ]
  },
  {
   "cell_type": "code",
   "execution_count": 209,
   "id": "spoken-chase",
   "metadata": {},
   "outputs": [],
   "source": [
    "rmv_idx = new_df[['state','city']][new_df[['state','city']].duplicated()].index #identified the duplicate \n",
    "new_df = new_df.drop(rmv_idx) #remove the duplicate relying on their index; I need this to substitute the 'city' and 'state'.\n",
    "new_df['city'] = new_df['city'].apply(lambda x: x.rsplit(' ',1)[0]) #remove the name after the empty space for some city \n",
    "#for the reason that city names have to be equal in order to substitute the columns\n",
    "new_df=new_df.replace({'(X)': np.nan,'-': np.nan}) \n",
    "new_df=new_df.fillna(0.0) #substitute nan with 0\n"
   ]
  },
  {
   "cell_type": "markdown",
   "id": "bigger-printer",
   "metadata": {},
   "source": [
    "...and add the 'cases' columns (that counts the cases for each city)!"
   ]
  },
  {
   "cell_type": "code",
   "execution_count": 210,
   "id": "enabling-experience",
   "metadata": {},
   "outputs": [],
   "source": [
    "cases = kills.groupby(['state','city']).count()['id'].reset_index() #grouping cases by state and city from kills dataset\n",
    "cases.columns = ['state', 'city', 'cases'] #rename 'id' column --> 'cases'"
   ]
  },
  {
   "cell_type": "code",
   "execution_count": 211,
   "id": "economic-director",
   "metadata": {},
   "outputs": [],
   "source": [
    "#keep this line in separate cells to avoid the repetitions of columns while run the code\n",
    "new_df = pd.merge(cases,new_df,on=['state','city'],how='left') #merge dataframes basing on two columns (state, city)"
   ]
  },
  {
   "cell_type": "code",
   "execution_count": 212,
   "id": "developed-valuation",
   "metadata": {},
   "outputs": [
    {
     "data": {
      "text/html": [
       "<div>\n",
       "<style scoped>\n",
       "    .dataframe tbody tr th:only-of-type {\n",
       "        vertical-align: middle;\n",
       "    }\n",
       "\n",
       "    .dataframe tbody tr th {\n",
       "        vertical-align: top;\n",
       "    }\n",
       "\n",
       "    .dataframe thead th {\n",
       "        text-align: right;\n",
       "    }\n",
       "</style>\n",
       "<table border=\"1\" class=\"dataframe\">\n",
       "  <thead>\n",
       "    <tr style=\"text-align: right;\">\n",
       "      <th></th>\n",
       "      <th>state</th>\n",
       "      <th>city</th>\n",
       "      <th>cases</th>\n",
       "      <th>poverty_rate</th>\n",
       "      <th>percent_completed_hs</th>\n",
       "    </tr>\n",
       "  </thead>\n",
       "  <tbody>\n",
       "    <tr>\n",
       "      <th>0</th>\n",
       "      <td>AK</td>\n",
       "      <td>Anchor</td>\n",
       "      <td>1</td>\n",
       "      <td>10.1</td>\n",
       "      <td>93.8</td>\n",
       "    </tr>\n",
       "    <tr>\n",
       "      <th>1</th>\n",
       "      <td>AK</td>\n",
       "      <td>Anchorage</td>\n",
       "      <td>11</td>\n",
       "      <td>8.2</td>\n",
       "      <td>93.0</td>\n",
       "    </tr>\n",
       "    <tr>\n",
       "      <th>2</th>\n",
       "      <td>AK</td>\n",
       "      <td>Barrow</td>\n",
       "      <td>1</td>\n",
       "      <td>11.7</td>\n",
       "      <td>84.6</td>\n",
       "    </tr>\n",
       "    <tr>\n",
       "      <th>3</th>\n",
       "      <td>AK</td>\n",
       "      <td>Big</td>\n",
       "      <td>1</td>\n",
       "      <td>9.6</td>\n",
       "      <td>90.4</td>\n",
       "    </tr>\n",
       "    <tr>\n",
       "      <th>4</th>\n",
       "      <td>AK</td>\n",
       "      <td>Copper</td>\n",
       "      <td>1</td>\n",
       "      <td>18.8</td>\n",
       "      <td>84.8</td>\n",
       "    </tr>\n",
       "  </tbody>\n",
       "</table>\n",
       "</div>"
      ],
      "text/plain": [
       "  state       city  cases  poverty_rate  percent_completed_hs\n",
       "0    AK     Anchor      1          10.1                  93.8\n",
       "1    AK  Anchorage     11           8.2                  93.0\n",
       "2    AK     Barrow      1          11.7                  84.6\n",
       "3    AK        Big      1           9.6                  90.4\n",
       "4    AK     Copper      1          18.8                  84.8"
      ]
     },
     "execution_count": 212,
     "metadata": {},
     "output_type": "execute_result"
    }
   ],
   "source": [
    "new_df['poverty_rate'] = new_df['poverty_rate'].astype(float)\n",
    "new_df['percent_completed_hs'] = new_df['percent_completed_hs'].astype(float)\n",
    "new_df['city'] = new_df['city'].apply(lambda x: x.rsplit(' ',1)[0])\n",
    "new_df.head() #new_df dataframe has the new column 'cases which represent the number of cases for each city'\n"
   ]
  },
  {
   "cell_type": "markdown",
   "id": "complimentary-childhood",
   "metadata": {},
   "source": [
    "Load and merge the dataframe with total population by city with the 'new_df' dataframe.\n",
    "\n",
    "Considering the column 'cases_on_pop_rate', the value 0.25 is equal to 0.25%"
   ]
  },
  {
   "cell_type": "code",
   "execution_count": 213,
   "id": "satisfactory-southwest",
   "metadata": {},
   "outputs": [
    {
     "data": {
      "text/html": [
       "<div>\n",
       "<style scoped>\n",
       "    .dataframe tbody tr th:only-of-type {\n",
       "        vertical-align: middle;\n",
       "    }\n",
       "\n",
       "    .dataframe tbody tr th {\n",
       "        vertical-align: top;\n",
       "    }\n",
       "\n",
       "    .dataframe thead th {\n",
       "        text-align: right;\n",
       "    }\n",
       "</style>\n",
       "<table border=\"1\" class=\"dataframe\">\n",
       "  <thead>\n",
       "    <tr style=\"text-align: right;\">\n",
       "      <th></th>\n",
       "      <th>city</th>\n",
       "      <th>state</th>\n",
       "      <th>population</th>\n",
       "      <th>lat</th>\n",
       "      <th>lng</th>\n",
       "      <th>cases_on_city_pop</th>\n",
       "    </tr>\n",
       "  </thead>\n",
       "  <tbody>\n",
       "    <tr>\n",
       "      <th>0</th>\n",
       "      <td>Anchor</td>\n",
       "      <td>AK</td>\n",
       "      <td>2057.0</td>\n",
       "      <td>59.7703</td>\n",
       "      <td>-151.7052</td>\n",
       "      <td>0.048614</td>\n",
       "    </tr>\n",
       "    <tr>\n",
       "      <th>1</th>\n",
       "      <td>Anchorage</td>\n",
       "      <td>AK</td>\n",
       "      <td>253421.0</td>\n",
       "      <td>61.1508</td>\n",
       "      <td>-149.1091</td>\n",
       "      <td>0.004341</td>\n",
       "    </tr>\n",
       "    <tr>\n",
       "      <th>2</th>\n",
       "      <td>Barrow</td>\n",
       "      <td>AK</td>\n",
       "      <td>4178.0</td>\n",
       "      <td>NaN</td>\n",
       "      <td>NaN</td>\n",
       "      <td>0.023935</td>\n",
       "    </tr>\n",
       "    <tr>\n",
       "      <th>3</th>\n",
       "      <td>Big</td>\n",
       "      <td>AK</td>\n",
       "      <td>3136.0</td>\n",
       "      <td>61.5260</td>\n",
       "      <td>-149.9721</td>\n",
       "      <td>0.031888</td>\n",
       "    </tr>\n",
       "    <tr>\n",
       "      <th>4</th>\n",
       "      <td>Copper</td>\n",
       "      <td>AK</td>\n",
       "      <td>397.0</td>\n",
       "      <td>61.9845</td>\n",
       "      <td>-145.3544</td>\n",
       "      <td>0.251889</td>\n",
       "    </tr>\n",
       "  </tbody>\n",
       "</table>\n",
       "</div>"
      ],
      "text/plain": [
       "        city state  population      lat       lng  cases_on_city_pop\n",
       "0     Anchor    AK      2057.0  59.7703 -151.7052           0.048614\n",
       "1  Anchorage    AK    253421.0  61.1508 -149.1091           0.004341\n",
       "2     Barrow    AK      4178.0      NaN       NaN           0.023935\n",
       "3        Big    AK      3136.0  61.5260 -149.9721           0.031888\n",
       "4     Copper    AK       397.0  61.9845 -145.3544           0.251889"
      ]
     },
     "execution_count": 213,
     "metadata": {},
     "output_type": "execute_result"
    }
   ],
   "source": [
    "population = pd.read_csv('PopulationByCity.csv') #population for each city \n",
    "population['city'] = population['city'].apply(lambda x: x.rsplit(' ',1)[0]) #remove part of the name which can impede the correct merge of the names for the column 'city'\n",
    "population['cases_on_city_pop'] = new_df['cases']/population['population']*100 #percentage rate cases/population per city\n",
    "population.head()"
   ]
  },
  {
   "cell_type": "code",
   "execution_count": 214,
   "id": "acceptable-poland",
   "metadata": {},
   "outputs": [
    {
     "data": {
      "text/html": [
       "<div>\n",
       "<style scoped>\n",
       "    .dataframe tbody tr th:only-of-type {\n",
       "        vertical-align: middle;\n",
       "    }\n",
       "\n",
       "    .dataframe tbody tr th {\n",
       "        vertical-align: top;\n",
       "    }\n",
       "\n",
       "    .dataframe thead th {\n",
       "        text-align: right;\n",
       "    }\n",
       "</style>\n",
       "<table border=\"1\" class=\"dataframe\">\n",
       "  <thead>\n",
       "    <tr style=\"text-align: right;\">\n",
       "      <th></th>\n",
       "      <th>city</th>\n",
       "      <th>cases</th>\n",
       "      <th>poverty_rate</th>\n",
       "      <th>percent_completed_hs</th>\n",
       "      <th>population</th>\n",
       "      <th>lat</th>\n",
       "      <th>lng</th>\n",
       "      <th>cases_on_city_pop</th>\n",
       "    </tr>\n",
       "    <tr>\n",
       "      <th>state</th>\n",
       "      <th></th>\n",
       "      <th></th>\n",
       "      <th></th>\n",
       "      <th></th>\n",
       "      <th></th>\n",
       "      <th></th>\n",
       "      <th></th>\n",
       "      <th></th>\n",
       "    </tr>\n",
       "  </thead>\n",
       "  <tbody>\n",
       "    <tr>\n",
       "      <th>AK</th>\n",
       "      <td>Anchor</td>\n",
       "      <td>1</td>\n",
       "      <td>10.1</td>\n",
       "      <td>93.8</td>\n",
       "      <td>2057.0</td>\n",
       "      <td>59.7703</td>\n",
       "      <td>-151.7052</td>\n",
       "      <td>0.048614</td>\n",
       "    </tr>\n",
       "    <tr>\n",
       "      <th>AK</th>\n",
       "      <td>Anchorage</td>\n",
       "      <td>11</td>\n",
       "      <td>8.2</td>\n",
       "      <td>93.0</td>\n",
       "      <td>253421.0</td>\n",
       "      <td>61.1508</td>\n",
       "      <td>-149.1091</td>\n",
       "      <td>0.004341</td>\n",
       "    </tr>\n",
       "    <tr>\n",
       "      <th>AK</th>\n",
       "      <td>Barrow</td>\n",
       "      <td>1</td>\n",
       "      <td>11.7</td>\n",
       "      <td>84.6</td>\n",
       "      <td>4178.0</td>\n",
       "      <td>0.0000</td>\n",
       "      <td>0.0000</td>\n",
       "      <td>0.023935</td>\n",
       "    </tr>\n",
       "    <tr>\n",
       "      <th>AK</th>\n",
       "      <td>Big</td>\n",
       "      <td>1</td>\n",
       "      <td>9.6</td>\n",
       "      <td>90.4</td>\n",
       "      <td>3136.0</td>\n",
       "      <td>61.5260</td>\n",
       "      <td>-149.9721</td>\n",
       "      <td>0.031888</td>\n",
       "    </tr>\n",
       "    <tr>\n",
       "      <th>AK</th>\n",
       "      <td>Copper</td>\n",
       "      <td>1</td>\n",
       "      <td>18.8</td>\n",
       "      <td>84.8</td>\n",
       "      <td>397.0</td>\n",
       "      <td>61.9845</td>\n",
       "      <td>-145.3544</td>\n",
       "      <td>0.251889</td>\n",
       "    </tr>\n",
       "  </tbody>\n",
       "</table>\n",
       "</div>"
      ],
      "text/plain": [
       "            city  cases  poverty_rate  percent_completed_hs  population  \\\n",
       "state                                                                     \n",
       "AK        Anchor      1          10.1                  93.8      2057.0   \n",
       "AK     Anchorage     11           8.2                  93.0    253421.0   \n",
       "AK        Barrow      1          11.7                  84.6      4178.0   \n",
       "AK           Big      1           9.6                  90.4      3136.0   \n",
       "AK        Copper      1          18.8                  84.8       397.0   \n",
       "\n",
       "           lat       lng  cases_on_city_pop  \n",
       "state                                        \n",
       "AK     59.7703 -151.7052           0.048614  \n",
       "AK     61.1508 -149.1091           0.004341  \n",
       "AK      0.0000    0.0000           0.023935  \n",
       "AK     61.5260 -149.9721           0.031888  \n",
       "AK     61.9845 -145.3544           0.251889  "
      ]
     },
     "execution_count": 214,
     "metadata": {},
     "output_type": "execute_result"
    }
   ],
   "source": [
    "merged_data= pd.merge(new_df,population, on=['state','city'],how='left') #merge dataframes basing on two columns (state, city)\n",
    "merged_data= merged_data.drop_duplicates(subset=['city','state']) #drop duplicate using city and state as 'filter'\n",
    "merged_data = merged_data.replace({'(X)': np.nan,'-': np.nan}) #substitute eventual 'x' or '-' with nan\n",
    "merged_data= merged_data.set_index('state').fillna(0)\n",
    "merged_data.head()"
   ]
  },
  {
   "cell_type": "markdown",
   "id": "korean-population",
   "metadata": {},
   "source": [
    "Down below, I made two scatter plots: figure 17 place the relation between the cases on cities population with the poverty rate and figure 18 the cases on cities population with the percentage of highschool completion.\n",
    "\n",
    "In both, cases of kills on city population aren't totally related with poverty and highschool completion: in fact, figure 17 shows that most of the kills happened in correspondence of medium/low rate of poverty and figure 18 with medium/high school rate of completion."
   ]
  },
  {
   "cell_type": "code",
   "execution_count": 216,
   "id": "engaged-creativity",
   "metadata": {},
   "outputs": [
    {
     "data": {
      "image/png": "[encoded data removed]",
      "text/plain": [
       "<Figure size 1152x360 with 2 Axes>"
      ]
     },
     "metadata": {
      "needs_background": "light"
     },
     "output_type": "display_data"
    }
   ],
   "source": [
    "fig, axes = plt.subplots(1,2,figsize=(16, 5))\n",
    "#choosing cities with more than 1000 inhabitants and data of rate without zeros\n",
    "sns.scatterplot(y='cases_on_city_pop', x='poverty_rate', \n",
    "                data=merged_data[(merged_data.population > 100) &(merged_data.poverty_rate > 0)], ax=axes[0], \n",
    "                color='#78281F', size='cases_on_city_pop',legend=False)\n",
    "sns.scatterplot(y='cases_on_city_pop', x='percent_completed_hs', \n",
    "                data=merged_data[(merged_data.population > 100) & (merged_data.percent_completed_hs > 0)], ax=axes[1], \n",
    "                color='#145A32', size='cases_on_city_pop',legend=False) \n",
    " #size is to define the size of the rate\n",
    "axes[0].set_yticks(np.arange(0, 10, 0.5))\n",
    "axes[1].set_yticks(np.arange(0, 10, 0.5))\n",
    "axes[0].set_title('Figure 17: cases rate on poverty rate (%)')\n",
    "axes[1].set_title('Figure 18: cases rate on completed_hs(%)')\n",
    "\n",
    "plt.show()"
   ]
  },
  {
   "cell_type": "code",
   "execution_count": 218,
   "id": "soviet-discharge",
   "metadata": {},
   "outputs": [
    {
     "data": {
      "text/html": [
       "<div>\n",
       "<style scoped>\n",
       "    .dataframe tbody tr th:only-of-type {\n",
       "        vertical-align: middle;\n",
       "    }\n",
       "\n",
       "    .dataframe tbody tr th {\n",
       "        vertical-align: top;\n",
       "    }\n",
       "\n",
       "    .dataframe thead th {\n",
       "        text-align: right;\n",
       "    }\n",
       "</style>\n",
       "<table border=\"1\" class=\"dataframe\">\n",
       "  <thead>\n",
       "    <tr style=\"text-align: right;\">\n",
       "      <th></th>\n",
       "      <th>poverty_rate</th>\n",
       "      <th>percent_completed_hs</th>\n",
       "      <th>cases_on_city_pop</th>\n",
       "    </tr>\n",
       "  </thead>\n",
       "  <tbody>\n",
       "    <tr>\n",
       "      <th>poverty_rate</th>\n",
       "      <td>1.000000</td>\n",
       "      <td>0.549730</td>\n",
       "      <td>-0.004053</td>\n",
       "    </tr>\n",
       "    <tr>\n",
       "      <th>percent_completed_hs</th>\n",
       "      <td>0.549730</td>\n",
       "      <td>1.000000</td>\n",
       "      <td>-0.001364</td>\n",
       "    </tr>\n",
       "    <tr>\n",
       "      <th>cases_on_city_pop</th>\n",
       "      <td>-0.004053</td>\n",
       "      <td>-0.001364</td>\n",
       "      <td>1.000000</td>\n",
       "    </tr>\n",
       "  </tbody>\n",
       "</table>\n",
       "</div>"
      ],
      "text/plain": [
       "                      poverty_rate  percent_completed_hs  cases_on_city_pop\n",
       "poverty_rate              1.000000              0.549730          -0.004053\n",
       "percent_completed_hs      0.549730              1.000000          -0.001364\n",
       "cases_on_city_pop        -0.004053             -0.001364           1.000000"
      ]
     },
     "execution_count": 218,
     "metadata": {},
     "output_type": "execute_result"
    }
   ],
   "source": [
    "merged_data[['poverty_rate', 'percent_completed_hs', 'cases_on_city_pop' ]].corr() #check the correlation"
   ]
  },
  {
   "cell_type": "markdown",
   "id": "potential-county",
   "metadata": {},
   "source": [
    "Now, let's create a new dataframe with the total black kills per state"
   ]
  },
  {
   "cell_type": "code",
   "execution_count": 248,
   "id": "weekly-desire",
   "metadata": {},
   "outputs": [],
   "source": [
    "kills['race'] = kills['race']\n",
    "num_cases_black_state = pd.get_dummies(kills.race) #create a new DF with only the count of kills for each race\n",
    "num_cases_black_state['state'] = kills.state\n",
    "num_cases_black_state = num_cases_black_state.groupby('state').sum().reset_index()\n",
    "num_cases_black_state\n",
    "num_cases_black_state.columns = ['state','asian','tot_black_kills','hispanic','native_american','other','white']\n",
    "# I am going to keep only the black cases\n",
    "num_cases_black_state=num_cases_black_state.drop(columns=['asian','hispanic','native_american','other','white'])\n",
    "num_cases_black_state.sort_values(by=['state']) #alphabetically ordering\n",
    "ix= num_cases_black_state[num_cases_black_state['tot_black_kills']==0.0].index #remove state with 0 kills\n",
    "num_cases_black_state = num_cases_black_state.drop(ix) #drop 0.0s\n"
   ]
  },
  {
   "cell_type": "markdown",
   "id": "ordinary-thunder",
   "metadata": {},
   "source": [
    "Importing the dataset on total black population for each state.\n",
    "\n",
    "Here's the source: https://worldpopulationreview.com/state-rankings/black-population-by-state"
   ]
  },
  {
   "cell_type": "code",
   "execution_count": 249,
   "id": "corrected-carry",
   "metadata": {},
   "outputs": [
    {
     "data": {
      "text/html": [
       "<div>\n",
       "<style scoped>\n",
       "    .dataframe tbody tr th:only-of-type {\n",
       "        vertical-align: middle;\n",
       "    }\n",
       "\n",
       "    .dataframe tbody tr th {\n",
       "        vertical-align: top;\n",
       "    }\n",
       "\n",
       "    .dataframe thead th {\n",
       "        text-align: right;\n",
       "    }\n",
       "</style>\n",
       "<table border=\"1\" class=\"dataframe\">\n",
       "  <thead>\n",
       "    <tr style=\"text-align: right;\">\n",
       "      <th></th>\n",
       "      <th>state</th>\n",
       "      <th>tot_pop_black</th>\n",
       "    </tr>\n",
       "  </thead>\n",
       "  <tbody>\n",
       "    <tr>\n",
       "      <th>1</th>\n",
       "      <td>AK</td>\n",
       "      <td>35935</td>\n",
       "    </tr>\n",
       "    <tr>\n",
       "      <th>0</th>\n",
       "      <td>AL</td>\n",
       "      <td>1340980</td>\n",
       "    </tr>\n",
       "    <tr>\n",
       "      <th>2</th>\n",
       "      <td>AR</td>\n",
       "      <td>405266</td>\n",
       "    </tr>\n",
       "    <tr>\n",
       "      <th>3</th>\n",
       "      <td>AZ</td>\n",
       "      <td>489192</td>\n",
       "    </tr>\n",
       "    <tr>\n",
       "      <th>4</th>\n",
       "      <td>CA</td>\n",
       "      <td>2766480</td>\n",
       "    </tr>\n",
       "  </tbody>\n",
       "</table>\n",
       "</div>"
      ],
      "text/plain": [
       "  state  tot_pop_black\n",
       "1    AK          35935\n",
       "0    AL        1340980\n",
       "2    AR         405266\n",
       "3    AZ         489192\n",
       "4    CA        2766480"
      ]
     },
     "execution_count": 249,
     "metadata": {},
     "output_type": "execute_result"
    }
   ],
   "source": [
    "pop_black = pd.read_csv('PopBlack.csv')\n",
    "pop_black.columns=['state', 'tot_pop_black', 'rate_pop_black_state']\n",
    "pop_black= pop_black.sort_values('state')\n",
    "pop_black= pop_black.drop(columns=['rate_pop_black_state'])\n",
    "pop_black.head()"
   ]
  },
  {
   "cell_type": "markdown",
   "id": "strategic-friendly",
   "metadata": {},
   "source": [
    "Let's merge the two previous dataframe"
   ]
  },
  {
   "cell_type": "code",
   "execution_count": 250,
   "id": "insured-organic",
   "metadata": {},
   "outputs": [
    {
     "data": {
      "text/html": [
       "<div>\n",
       "<style scoped>\n",
       "    .dataframe tbody tr th:only-of-type {\n",
       "        vertical-align: middle;\n",
       "    }\n",
       "\n",
       "    .dataframe tbody tr th {\n",
       "        vertical-align: top;\n",
       "    }\n",
       "\n",
       "    .dataframe thead th {\n",
       "        text-align: right;\n",
       "    }\n",
       "</style>\n",
       "<table border=\"1\" class=\"dataframe\">\n",
       "  <thead>\n",
       "    <tr style=\"text-align: right;\">\n",
       "      <th></th>\n",
       "      <th>state</th>\n",
       "      <th>tot_pop_black</th>\n",
       "      <th>tot_black_kills</th>\n",
       "      <th>kills_rate_black</th>\n",
       "    </tr>\n",
       "  </thead>\n",
       "  <tbody>\n",
       "    <tr>\n",
       "      <th>24</th>\n",
       "      <td>MO</td>\n",
       "      <td>11278</td>\n",
       "      <td>54.0</td>\n",
       "      <td>0.478808</td>\n",
       "    </tr>\n",
       "    <tr>\n",
       "      <th>18</th>\n",
       "      <td>LA</td>\n",
       "      <td>26929</td>\n",
       "      <td>68.0</td>\n",
       "      <td>0.252516</td>\n",
       "    </tr>\n",
       "    <tr>\n",
       "      <th>43</th>\n",
       "      <td>WI</td>\n",
       "      <td>9770</td>\n",
       "      <td>22.0</td>\n",
       "      <td>0.225179</td>\n",
       "    </tr>\n",
       "    <tr>\n",
       "      <th>26</th>\n",
       "      <td>NC</td>\n",
       "      <td>26761</td>\n",
       "      <td>55.0</td>\n",
       "      <td>0.205523</td>\n",
       "    </tr>\n",
       "    <tr>\n",
       "      <th>39</th>\n",
       "      <td>TX</td>\n",
       "      <td>55472</td>\n",
       "      <td>113.0</td>\n",
       "      <td>0.203706</td>\n",
       "    </tr>\n",
       "  </tbody>\n",
       "</table>\n",
       "</div>"
      ],
      "text/plain": [
       "   state  tot_pop_black  tot_black_kills  kills_rate_black\n",
       "24    MO          11278             54.0          0.478808\n",
       "18    LA          26929             68.0          0.252516\n",
       "43    WI           9770             22.0          0.225179\n",
       "26    NC          26761             55.0          0.205523\n",
       "39    TX          55472            113.0          0.203706"
      ]
     },
     "execution_count": 250,
     "metadata": {},
     "output_type": "execute_result"
    }
   ],
   "source": [
    "pop_black = pd.merge(pop_black,num_cases_black_state)\n",
    "#calculate the rate of black kills per state\n",
    "pop_black['kills_rate_black'] = pop_black['tot_black_kills']/pop_black['tot_pop_black']*100 \n",
    "pop_black = pop_black.sort_values('kills_rate_black', ascending=False)\n",
    "pop_black.head()"
   ]
  },
  {
   "cell_type": "markdown",
   "id": "foster-security",
   "metadata": {},
   "source": [
    "According to the data, the state which have the highest rate of black kills is Missouri (MO)"
   ]
  },
  {
   "cell_type": "code",
   "execution_count": 251,
   "id": "express-convenience",
   "metadata": {},
   "outputs": [
    {
     "data": {
      "image/png": "[encoded data removed]",
      "text/plain": [
       "<Figure size 720x360 with 1 Axes>"
      ]
     },
     "metadata": {
      "needs_background": "light"
     },
     "output_type": "display_data"
    }
   ],
   "source": [
    "plt.figure(figsize=(10,5))\n",
    "sns.barplot(x=pop_black['state'][:5], y=pop_black['kills_rate_black'][:5], data=pop_black)\n",
    "plt.xlabel('States')\n",
    "plt.ylabel('Black kill rate')\n",
    "plt.title('Figure 19: black kills rate per state')  \n",
    "plt.show()"
   ]
  },
  {
   "cell_type": "markdown",
   "id": "approximate-attitude",
   "metadata": {},
   "source": [
    "Nice visualization might be the one on the map (figure 20)!\n",
    "\n",
    "Down below I represent the states with the greatest rate of black kills."
   ]
  },
  {
   "cell_type": "code",
   "execution_count": 252,
   "id": "italic-forum",
   "metadata": {},
   "outputs": [
    {
     "data": {
      "application/vnd.plotly.v1+json": {
       "config": {
        "plotlyServerURL": "https://plot.ly"
       },
       "data": [
        {
         "coloraxis": "coloraxis",
         "geo": "geo",
         "hovertemplate": "state=%{location}<br>rate of kills for black population=%{z}<extra></extra>",
         "locationmode": "USA-states",
         "locations": [
          "MO",
          "LA",
          "WI",
          "NC",
          "TX",
          "GA",
          "SC",
          "UT",
          "NJ",
          "NV",
          "PA",
          "OK",
          "WA",
          "IN",
          "OH",
          "VA",
          "IL",
          "AK",
          "MD",
          "MI",
          "AR",
          "CO",
          "CA",
          "HI",
          "AZ",
          "FL",
          "IA",
          "MS",
          "DE",
          "AL",
          "NY",
          "NE",
          "WV",
          "KS",
          "KY",
          "MN",
          "TN",
          "CT",
          "MA",
          "OR",
          "DC",
          "RI",
          "NM",
          "ME",
          "ID"
         ],
         "name": "",
         "type": "choropleth",
         "z": [
          0.47880829934385527,
          0.2525158750789112,
          0.22517911975435007,
          0.2055229625200852,
          0.20370637438707817,
          0.16603087383630147,
          0.11715971379555629,
          0.05793263262434825,
          0.056039029535864975,
          0.055279159756771695,
          0.05014430416420588,
          0.030072675632779218,
          0.02805770534733101,
          0.020669836041526366,
          0.01834143413340892,
          0.010462312560371192,
          0.008744219099595267,
          0.008348406845693613,
          0.007923905646481941,
          0.006527765149660672,
          0.006415539423489758,
          0.006331961408361521,
          0.005205170469332871,
          0.004889258299515964,
          0.004292793013785998,
          0.003666489162032632,
          0.003257647327100368,
          0.003205658371705064,
          0.0026117616332216077,
          0.0023863144864203793,
          0.00216080636209183,
          0.001858989453333168,
          0.0018400195042067447,
          0.0014353723595129304,
          0.0009639607218137885,
          0.0009579127951024531,
          0.0009120783314331702,
          0.0008939905952189383,
          0.0005265028365340318,
          0.00043163515730018377,
          0.0003557871517049047,
          0.00014180173281717504,
          5.918297897524672e-05,
          5.2175183395769634e-05,
          5.114278554295738e-05
         ]
        }
       ],
       "layout": {
        "coloraxis": {
         "cmax": 0.47880829934385527,
         "cmin": 5.114278554295738e-05,
         "colorbar": {
          "title": {
           "text": "rate of kills for black population"
          }
         },
         "colorscale": [
          [
           0,
           "rgb(255,245,240)"
          ],
          [
           0.125,
           "rgb(254,224,210)"
          ],
          [
           0.25,
           "rgb(252,187,161)"
          ],
          [
           0.375,
           "rgb(252,146,114)"
          ],
          [
           0.5,
           "rgb(251,106,74)"
          ],
          [
           0.625,
           "rgb(239,59,44)"
          ],
          [
           0.75,
           "rgb(203,24,29)"
          ],
          [
           0.875,
           "rgb(165,15,21)"
          ],
          [
           1,
           "rgb(103,0,13)"
          ]
         ]
        },
        "geo": {
         "center": {},
         "domain": {
          "x": [
           0,
           1
          ],
          "y": [
           0,
           1
          ]
         },
         "scope": "usa"
        },
        "legend": {
         "tracegroupgap": 0
        },
        "template": {
         "data": {
          "bar": [
           {
            "error_x": {
             "color": "#2a3f5f"
            },
            "error_y": {
             "color": "#2a3f5f"
            },
            "marker": {
             "line": {
              "color": "#E5ECF6",
              "width": 0.5
             }
            },
            "type": "bar"
           }
          ],
          "barpolar": [
           {
            "marker": {
             "line": {
              "color": "#E5ECF6",
              "width": 0.5
             }
            },
            "type": "barpolar"
           }
          ],
          "carpet": [
           {
            "aaxis": {
             "endlinecolor": "#2a3f5f",
             "gridcolor": "white",
             "linecolor": "white",
             "minorgridcolor": "white",
             "startlinecolor": "#2a3f5f"
            },
            "baxis": {
             "endlinecolor": "#2a3f5f",
             "gridcolor": "white",
             "linecolor": "white",
             "minorgridcolor": "white",
             "startlinecolor": "#2a3f5f"
            },
            "type": "carpet"
           }
          ],
          "choropleth": [
           {
            "colorbar": {
             "outlinewidth": 0,
             "ticks": ""
            },
            "type": "choropleth"
           }
          ],
          "contour": [
           {
            "colorbar": {
             "outlinewidth": 0,
             "ticks": ""
            },
            "colorscale": [
             [
              0,
              "#0d0887"
             ],
             [
              0.1111111111111111,
              "#46039f"
             ],
             [
              0.2222222222222222,
              "#7201a8"
             ],
             [
              0.3333333333333333,
              "#9c179e"
             ],
             [
              0.4444444444444444,
              "#bd3786"
             ],
             [
              0.5555555555555556,
              "#d8576b"
             ],
             [
              0.6666666666666666,
              "#ed7953"
             ],
             [
              0.7777777777777778,
              "#fb9f3a"
             ],
             [
              0.8888888888888888,
              "#fdca26"
             ],
             [
              1,
              "#f0f921"
             ]
            ],
            "type": "contour"
           }
          ],
          "contourcarpet": [
           {
            "colorbar": {
             "outlinewidth": 0,
             "ticks": ""
            },
            "type": "contourcarpet"
           }
          ],
          "heatmap": [
           {
            "colorbar": {
             "outlinewidth": 0,
             "ticks": ""
            },
            "colorscale": [
             [
              0,
              "#0d0887"
             ],
             [
              0.1111111111111111,
              "#46039f"
             ],
             [
              0.2222222222222222,
              "#7201a8"
             ],
             [
              0.3333333333333333,
              "#9c179e"
             ],
             [
              0.4444444444444444,
              "#bd3786"
             ],
             [
              0.5555555555555556,
              "#d8576b"
             ],
             [
              0.6666666666666666,
              "#ed7953"
             ],
             [
              0.7777777777777778,
              "#fb9f3a"
             ],
             [
              0.8888888888888888,
              "#fdca26"
             ],
             [
              1,
              "#f0f921"
             ]
            ],
            "type": "heatmap"
           }
          ],
          "heatmapgl": [
           {
            "colorbar": {
             "outlinewidth": 0,
             "ticks": ""
            },
            "colorscale": [
             [
              0,
              "#0d0887"
             ],
             [
              0.1111111111111111,
              "#46039f"
             ],
             [
              0.2222222222222222,
              "#7201a8"
             ],
             [
              0.3333333333333333,
              "#9c179e"
             ],
             [
              0.4444444444444444,
              "#bd3786"
             ],
             [
              0.5555555555555556,
              "#d8576b"
             ],
             [
              0.6666666666666666,
              "#ed7953"
             ],
             [
              0.7777777777777778,
              "#fb9f3a"
             ],
             [
              0.8888888888888888,
              "#fdca26"
             ],
             [
              1,
              "#f0f921"
             ]
            ],
            "type": "heatmapgl"
           }
          ],
          "histogram": [
           {
            "marker": {
             "colorbar": {
              "outlinewidth": 0,
              "ticks": ""
             }
            },
            "type": "histogram"
           }
          ],
          "histogram2d": [
           {
            "colorbar": {
             "outlinewidth": 0,
             "ticks": ""
            },
            "colorscale": [
             [
              0,
              "#0d0887"
             ],
             [
              0.1111111111111111,
              "#46039f"
             ],
             [
              0.2222222222222222,
              "#7201a8"
             ],
             [
              0.3333333333333333,
              "#9c179e"
             ],
             [
              0.4444444444444444,
              "#bd3786"
             ],
             [
              0.5555555555555556,
              "#d8576b"
             ],
             [
              0.6666666666666666,
              "#ed7953"
             ],
             [
              0.7777777777777778,
              "#fb9f3a"
             ],
             [
              0.8888888888888888,
              "#fdca26"
             ],
             [
              1,
              "#f0f921"
             ]
            ],
            "type": "histogram2d"
           }
          ],
          "histogram2dcontour": [
           {
            "colorbar": {
             "outlinewidth": 0,
             "ticks": ""
            },
            "colorscale": [
             [
              0,
              "#0d0887"
             ],
             [
              0.1111111111111111,
              "#46039f"
             ],
             [
              0.2222222222222222,
              "#7201a8"
             ],
             [
              0.3333333333333333,
              "#9c179e"
             ],
             [
              0.4444444444444444,
              "#bd3786"
             ],
             [
              0.5555555555555556,
              "#d8576b"
             ],
             [
              0.6666666666666666,
              "#ed7953"
             ],
             [
              0.7777777777777778,
              "#fb9f3a"
             ],
             [
              0.8888888888888888,
              "#fdca26"
             ],
             [
              1,
              "#f0f921"
             ]
            ],
            "type": "histogram2dcontour"
           }
          ],
          "mesh3d": [
           {
            "colorbar": {
             "outlinewidth": 0,
             "ticks": ""
            },
            "type": "mesh3d"
           }
          ],
          "parcoords": [
           {
            "line": {
             "colorbar": {
              "outlinewidth": 0,
              "ticks": ""
             }
            },
            "type": "parcoords"
           }
          ],
          "pie": [
           {
            "automargin": true,
            "type": "pie"
           }
          ],
          "scatter": [
           {
            "marker": {
             "colorbar": {
              "outlinewidth": 0,
              "ticks": ""
             }
            },
            "type": "scatter"
           }
          ],
          "scatter3d": [
           {
            "line": {
             "colorbar": {
              "outlinewidth": 0,
              "ticks": ""
             }
            },
            "marker": {
             "colorbar": {
              "outlinewidth": 0,
              "ticks": ""
             }
            },
            "type": "scatter3d"
           }
          ],
          "scattercarpet": [
           {
            "marker": {
             "colorbar": {
              "outlinewidth": 0,
              "ticks": ""
             }
            },
            "type": "scattercarpet"
           }
          ],
          "scattergeo": [
           {
            "marker": {
             "colorbar": {
              "outlinewidth": 0,
              "ticks": ""
             }
            },
            "type": "scattergeo"
           }
          ],
          "scattergl": [
           {
            "marker": {
             "colorbar": {
              "outlinewidth": 0,
              "ticks": ""
             }
            },
            "type": "scattergl"
           }
          ],
          "scattermapbox": [
           {
            "marker": {
             "colorbar": {
              "outlinewidth": 0,
              "ticks": ""
             }
            },
            "type": "scattermapbox"
           }
          ],
          "scatterpolar": [
           {
            "marker": {
             "colorbar": {
              "outlinewidth": 0,
              "ticks": ""
             }
            },
            "type": "scatterpolar"
           }
          ],
          "scatterpolargl": [
           {
            "marker": {
             "colorbar": {
              "outlinewidth": 0,
              "ticks": ""
             }
            },
            "type": "scatterpolargl"
           }
          ],
          "scatterternary": [
           {
            "marker": {
             "colorbar": {
              "outlinewidth": 0,
              "ticks": ""
             }
            },
            "type": "scatterternary"
           }
          ],
          "surface": [
           {
            "colorbar": {
             "outlinewidth": 0,
             "ticks": ""
            },
            "colorscale": [
             [
              0,
              "#0d0887"
             ],
             [
              0.1111111111111111,
              "#46039f"
             ],
             [
              0.2222222222222222,
              "#7201a8"
             ],
             [
              0.3333333333333333,
              "#9c179e"
             ],
             [
              0.4444444444444444,
              "#bd3786"
             ],
             [
              0.5555555555555556,
              "#d8576b"
             ],
             [
              0.6666666666666666,
              "#ed7953"
             ],
             [
              0.7777777777777778,
              "#fb9f3a"
             ],
             [
              0.8888888888888888,
              "#fdca26"
             ],
             [
              1,
              "#f0f921"
             ]
            ],
            "type": "surface"
           }
          ],
          "table": [
           {
            "cells": {
             "fill": {
              "color": "#EBF0F8"
             },
             "line": {
              "color": "white"
             }
            },
            "header": {
             "fill": {
              "color": "#C8D4E3"
             },
             "line": {
              "color": "white"
             }
            },
            "type": "table"
           }
          ]
         },
         "layout": {
          "annotationdefaults": {
           "arrowcolor": "#2a3f5f",
           "arrowhead": 0,
           "arrowwidth": 1
          },
          "autotypenumbers": "strict",
          "coloraxis": {
           "colorbar": {
            "outlinewidth": 0,
            "ticks": ""
           }
          },
          "colorscale": {
           "diverging": [
            [
             0,
             "#8e0152"
            ],
            [
             0.1,
             "#c51b7d"
            ],
            [
             0.2,
             "#de77ae"
            ],
            [
             0.3,
             "#f1b6da"
            ],
            [
             0.4,
             "#fde0ef"
            ],
            [
             0.5,
             "#f7f7f7"
            ],
            [
             0.6,
             "#e6f5d0"
            ],
            [
             0.7,
             "#b8e186"
            ],
            [
             0.8,
             "#7fbc41"
            ],
            [
             0.9,
             "#4d9221"
            ],
            [
             1,
             "#276419"
            ]
           ],
           "sequential": [
            [
             0,
             "#0d0887"
            ],
            [
             0.1111111111111111,
             "#46039f"
            ],
            [
             0.2222222222222222,
             "#7201a8"
            ],
            [
             0.3333333333333333,
             "#9c179e"
            ],
            [
             0.4444444444444444,
             "#bd3786"
            ],
            [
             0.5555555555555556,
             "#d8576b"
            ],
            [
             0.6666666666666666,
             "#ed7953"
            ],
            [
             0.7777777777777778,
             "#fb9f3a"
            ],
            [
             0.8888888888888888,
             "#fdca26"
            ],
            [
             1,
             "#f0f921"
            ]
           ],
           "sequentialminus": [
            [
             0,
             "#0d0887"
            ],
            [
             0.1111111111111111,
             "#46039f"
            ],
            [
             0.2222222222222222,
             "#7201a8"
            ],
            [
             0.3333333333333333,
             "#9c179e"
            ],
            [
             0.4444444444444444,
             "#bd3786"
            ],
            [
             0.5555555555555556,
             "#d8576b"
            ],
            [
             0.6666666666666666,
             "#ed7953"
            ],
            [
             0.7777777777777778,
             "#fb9f3a"
            ],
            [
             0.8888888888888888,
             "#fdca26"
            ],
            [
             1,
             "#f0f921"
            ]
           ]
          },
          "colorway": [
           "#636efa",
           "#EF553B",
           "#00cc96",
           "#ab63fa",
           "#FFA15A",
           "#19d3f3",
           "#FF6692",
           "#B6E880",
           "#FF97FF",
           "#FECB52"
          ],
          "font": {
           "color": "#2a3f5f"
          },
          "geo": {
           "bgcolor": "white",
           "lakecolor": "white",
           "landcolor": "#E5ECF6",
           "showlakes": true,
           "showland": true,
           "subunitcolor": "white"
          },
          "hoverlabel": {
           "align": "left"
          },
          "hovermode": "closest",
          "mapbox": {
           "style": "light"
          },
          "paper_bgcolor": "white",
          "plot_bgcolor": "#E5ECF6",
          "polar": {
           "angularaxis": {
            "gridcolor": "white",
            "linecolor": "white",
            "ticks": ""
           },
           "bgcolor": "#E5ECF6",
           "radialaxis": {
            "gridcolor": "white",
            "linecolor": "white",
            "ticks": ""
           }
          },
          "scene": {
           "xaxis": {
            "backgroundcolor": "#E5ECF6",
            "gridcolor": "white",
            "gridwidth": 2,
            "linecolor": "white",
            "showbackground": true,
            "ticks": "",
            "zerolinecolor": "white"
           },
           "yaxis": {
            "backgroundcolor": "#E5ECF6",
            "gridcolor": "white",
            "gridwidth": 2,
            "linecolor": "white",
            "showbackground": true,
            "ticks": "",
            "zerolinecolor": "white"
           },
           "zaxis": {
            "backgroundcolor": "#E5ECF6",
            "gridcolor": "white",
            "gridwidth": 2,
            "linecolor": "white",
            "showbackground": true,
            "ticks": "",
            "zerolinecolor": "white"
           }
          },
          "shapedefaults": {
           "line": {
            "color": "#2a3f5f"
           }
          },
          "ternary": {
           "aaxis": {
            "gridcolor": "white",
            "linecolor": "white",
            "ticks": ""
           },
           "baxis": {
            "gridcolor": "white",
            "linecolor": "white",
            "ticks": ""
           },
           "bgcolor": "#E5ECF6",
           "caxis": {
            "gridcolor": "white",
            "linecolor": "white",
            "ticks": ""
           }
          },
          "title": {
           "x": 0.05
          },
          "xaxis": {
           "automargin": true,
           "gridcolor": "white",
           "linecolor": "white",
           "ticks": "",
           "title": {
            "standoff": 15
           },
           "zerolinecolor": "white",
           "zerolinewidth": 2
          },
          "yaxis": {
           "automargin": true,
           "gridcolor": "white",
           "linecolor": "white",
           "ticks": "",
           "title": {
            "standoff": 15
           },
           "zerolinecolor": "white",
           "zerolinewidth": 2
          }
         }
        },
        "title": {
         "text": "Figure 20: rate of black cases on state population",
         "x": 0.5
        }
       }
      },
      "text/html": [
       "<div>                            <div id=\"6c534455-6749-4f4c-98ef-a89b89830e1c\" class=\"plotly-graph-div\" style=\"height:525px; width:100%;\"></div>            <script type=\"text/javascript\">                require([\"plotly\"], function(Plotly) {                    window.PLOTLYENV=window.PLOTLYENV || {};                                    if (document.getElementById(\"6c534455-6749-4f4c-98ef-a89b89830e1c\")) {                    Plotly.newPlot(                        \"6c534455-6749-4f4c-98ef-a89b89830e1c\",                        [{\"coloraxis\": \"coloraxis\", \"geo\": \"geo\", \"hovertemplate\": \"state=%{location}<br>rate of kills for black population=%{z}<extra></extra>\", \"locationmode\": \"USA-states\", \"locations\": [\"MO\", \"LA\", \"WI\", \"NC\", \"TX\", \"GA\", \"SC\", \"UT\", \"NJ\", \"NV\", \"PA\", \"OK\", \"WA\", \"IN\", \"OH\", \"VA\", \"IL\", \"AK\", \"MD\", \"MI\", \"AR\", \"CO\", \"CA\", \"HI\", \"AZ\", \"FL\", \"IA\", \"MS\", \"DE\", \"AL\", \"NY\", \"NE\", \"WV\", \"KS\", \"KY\", \"MN\", \"TN\", \"CT\", \"MA\", \"OR\", \"DC\", \"RI\", \"NM\", \"ME\", \"ID\"], \"name\": \"\", \"type\": \"choropleth\", \"z\": [0.47880829934385527, 0.2525158750789112, 0.22517911975435007, 0.2055229625200852, 0.20370637438707817, 0.16603087383630147, 0.11715971379555629, 0.05793263262434825, 0.056039029535864975, 0.055279159756771695, 0.05014430416420588, 0.030072675632779218, 0.02805770534733101, 0.020669836041526366, 0.01834143413340892, 0.010462312560371192, 0.008744219099595267, 0.008348406845693613, 0.007923905646481941, 0.006527765149660672, 0.006415539423489758, 0.006331961408361521, 0.005205170469332871, 0.004889258299515964, 0.004292793013785998, 0.003666489162032632, 0.003257647327100368, 0.003205658371705064, 0.0026117616332216077, 0.0023863144864203793, 0.00216080636209183, 0.001858989453333168, 0.0018400195042067447, 0.0014353723595129304, 0.0009639607218137885, 0.0009579127951024531, 0.0009120783314331702, 0.0008939905952189383, 0.0005265028365340318, 0.00043163515730018377, 0.0003557871517049047, 0.00014180173281717504, 5.918297897524672e-05, 5.2175183395769634e-05, 5.114278554295738e-05]}],                        {\"coloraxis\": {\"cmax\": 0.47880829934385527, \"cmin\": 5.114278554295738e-05, \"colorbar\": {\"title\": {\"text\": \"rate of kills for black population\"}}, \"colorscale\": [[0.0, \"rgb(255,245,240)\"], [0.125, \"rgb(254,224,210)\"], [0.25, \"rgb(252,187,161)\"], [0.375, \"rgb(252,146,114)\"], [0.5, \"rgb(251,106,74)\"], [0.625, \"rgb(239,59,44)\"], [0.75, \"rgb(203,24,29)\"], [0.875, \"rgb(165,15,21)\"], [1.0, \"rgb(103,0,13)\"]]}, \"geo\": {\"center\": {}, \"domain\": {\"x\": [0.0, 1.0], \"y\": [0.0, 1.0]}, \"scope\": \"usa\"}, \"legend\": {\"tracegroupgap\": 0}, \"template\": {\"data\": {\"bar\": [{\"error_x\": {\"color\": \"#2a3f5f\"}, \"error_y\": {\"color\": \"#2a3f5f\"}, \"marker\": {\"line\": {\"color\": \"#E5ECF6\", \"width\": 0.5}}, \"type\": \"bar\"}], \"barpolar\": [{\"marker\": {\"line\": {\"color\": \"#E5ECF6\", \"width\": 0.5}}, \"type\": \"barpolar\"}], \"carpet\": [{\"aaxis\": {\"endlinecolor\": \"#2a3f5f\", \"gridcolor\": \"white\", \"linecolor\": \"white\", \"minorgridcolor\": \"white\", \"startlinecolor\": \"#2a3f5f\"}, \"baxis\": {\"endlinecolor\": \"#2a3f5f\", \"gridcolor\": \"white\", \"linecolor\": \"white\", \"minorgridcolor\": \"white\", \"startlinecolor\": \"#2a3f5f\"}, \"type\": \"carpet\"}], \"choropleth\": [{\"colorbar\": {\"outlinewidth\": 0, \"ticks\": \"\"}, \"type\": \"choropleth\"}], \"contour\": [{\"colorbar\": {\"outlinewidth\": 0, \"ticks\": \"\"}, \"colorscale\": [[0.0, \"#0d0887\"], [0.1111111111111111, \"#46039f\"], [0.2222222222222222, \"#7201a8\"], [0.3333333333333333, \"#9c179e\"], [0.4444444444444444, \"#bd3786\"], [0.5555555555555556, \"#d8576b\"], [0.6666666666666666, \"#ed7953\"], [0.7777777777777778, \"#fb9f3a\"], [0.8888888888888888, \"#fdca26\"], [1.0, \"#f0f921\"]], \"type\": \"contour\"}], \"contourcarpet\": [{\"colorbar\": {\"outlinewidth\": 0, \"ticks\": \"\"}, \"type\": \"contourcarpet\"}], \"heatmap\": [{\"colorbar\": {\"outlinewidth\": 0, \"ticks\": \"\"}, \"colorscale\": [[0.0, \"#0d0887\"], [0.1111111111111111, \"#46039f\"], [0.2222222222222222, \"#7201a8\"], [0.3333333333333333, \"#9c179e\"], [0.4444444444444444, \"#bd3786\"], [0.5555555555555556, \"#d8576b\"], [0.6666666666666666, \"#ed7953\"], [0.7777777777777778, \"#fb9f3a\"], [0.8888888888888888, \"#fdca26\"], [1.0, \"#f0f921\"]], \"type\": \"heatmap\"}], \"heatmapgl\": [{\"colorbar\": {\"outlinewidth\": 0, \"ticks\": \"\"}, \"colorscale\": [[0.0, \"#0d0887\"], [0.1111111111111111, \"#46039f\"], [0.2222222222222222, \"#7201a8\"], [0.3333333333333333, \"#9c179e\"], [0.4444444444444444, \"#bd3786\"], [0.5555555555555556, \"#d8576b\"], [0.6666666666666666, \"#ed7953\"], [0.7777777777777778, \"#fb9f3a\"], [0.8888888888888888, \"#fdca26\"], [1.0, \"#f0f921\"]], \"type\": \"heatmapgl\"}], \"histogram\": [{\"marker\": {\"colorbar\": {\"outlinewidth\": 0, \"ticks\": \"\"}}, \"type\": \"histogram\"}], \"histogram2d\": [{\"colorbar\": {\"outlinewidth\": 0, \"ticks\": \"\"}, \"colorscale\": [[0.0, \"#0d0887\"], [0.1111111111111111, \"#46039f\"], [0.2222222222222222, \"#7201a8\"], [0.3333333333333333, \"#9c179e\"], [0.4444444444444444, \"#bd3786\"], [0.5555555555555556, \"#d8576b\"], [0.6666666666666666, \"#ed7953\"], [0.7777777777777778, \"#fb9f3a\"], [0.8888888888888888, \"#fdca26\"], [1.0, \"#f0f921\"]], \"type\": \"histogram2d\"}], \"histogram2dcontour\": [{\"colorbar\": {\"outlinewidth\": 0, \"ticks\": \"\"}, \"colorscale\": [[0.0, \"#0d0887\"], [0.1111111111111111, \"#46039f\"], [0.2222222222222222, \"#7201a8\"], [0.3333333333333333, \"#9c179e\"], [0.4444444444444444, \"#bd3786\"], [0.5555555555555556, \"#d8576b\"], [0.6666666666666666, \"#ed7953\"], [0.7777777777777778, \"#fb9f3a\"], [0.8888888888888888, \"#fdca26\"], [1.0, \"#f0f921\"]], \"type\": \"histogram2dcontour\"}], \"mesh3d\": [{\"colorbar\": {\"outlinewidth\": 0, \"ticks\": \"\"}, \"type\": \"mesh3d\"}], \"parcoords\": [{\"line\": {\"colorbar\": {\"outlinewidth\": 0, \"ticks\": \"\"}}, \"type\": \"parcoords\"}], \"pie\": [{\"automargin\": true, \"type\": \"pie\"}], \"scatter\": [{\"marker\": {\"colorbar\": {\"outlinewidth\": 0, \"ticks\": \"\"}}, \"type\": \"scatter\"}], \"scatter3d\": [{\"line\": {\"colorbar\": {\"outlinewidth\": 0, \"ticks\": \"\"}}, \"marker\": {\"colorbar\": {\"outlinewidth\": 0, \"ticks\": \"\"}}, \"type\": \"scatter3d\"}], \"scattercarpet\": [{\"marker\": {\"colorbar\": {\"outlinewidth\": 0, \"ticks\": \"\"}}, \"type\": \"scattercarpet\"}], \"scattergeo\": [{\"marker\": {\"colorbar\": {\"outlinewidth\": 0, \"ticks\": \"\"}}, \"type\": \"scattergeo\"}], \"scattergl\": [{\"marker\": {\"colorbar\": {\"outlinewidth\": 0, \"ticks\": \"\"}}, \"type\": \"scattergl\"}], \"scattermapbox\": [{\"marker\": {\"colorbar\": {\"outlinewidth\": 0, \"ticks\": \"\"}}, \"type\": \"scattermapbox\"}], \"scatterpolar\": [{\"marker\": {\"colorbar\": {\"outlinewidth\": 0, \"ticks\": \"\"}}, \"type\": \"scatterpolar\"}], \"scatterpolargl\": [{\"marker\": {\"colorbar\": {\"outlinewidth\": 0, \"ticks\": \"\"}}, \"type\": \"scatterpolargl\"}], \"scatterternary\": [{\"marker\": {\"colorbar\": {\"outlinewidth\": 0, \"ticks\": \"\"}}, \"type\": \"scatterternary\"}], \"surface\": [{\"colorbar\": {\"outlinewidth\": 0, \"ticks\": \"\"}, \"colorscale\": [[0.0, \"#0d0887\"], [0.1111111111111111, \"#46039f\"], [0.2222222222222222, \"#7201a8\"], [0.3333333333333333, \"#9c179e\"], [0.4444444444444444, \"#bd3786\"], [0.5555555555555556, \"#d8576b\"], [0.6666666666666666, \"#ed7953\"], [0.7777777777777778, \"#fb9f3a\"], [0.8888888888888888, \"#fdca26\"], [1.0, \"#f0f921\"]], \"type\": \"surface\"}], \"table\": [{\"cells\": {\"fill\": {\"color\": \"#EBF0F8\"}, \"line\": {\"color\": \"white\"}}, \"header\": {\"fill\": {\"color\": \"#C8D4E3\"}, \"line\": {\"color\": \"white\"}}, \"type\": \"table\"}]}, \"layout\": {\"annotationdefaults\": {\"arrowcolor\": \"#2a3f5f\", \"arrowhead\": 0, \"arrowwidth\": 1}, \"autotypenumbers\": \"strict\", \"coloraxis\": {\"colorbar\": {\"outlinewidth\": 0, \"ticks\": \"\"}}, \"colorscale\": {\"diverging\": [[0, \"#8e0152\"], [0.1, \"#c51b7d\"], [0.2, \"#de77ae\"], [0.3, \"#f1b6da\"], [0.4, \"#fde0ef\"], [0.5, \"#f7f7f7\"], [0.6, \"#e6f5d0\"], [0.7, \"#b8e186\"], [0.8, \"#7fbc41\"], [0.9, \"#4d9221\"], [1, \"#276419\"]], \"sequential\": [[0.0, \"#0d0887\"], [0.1111111111111111, \"#46039f\"], [0.2222222222222222, \"#7201a8\"], [0.3333333333333333, \"#9c179e\"], [0.4444444444444444, \"#bd3786\"], [0.5555555555555556, \"#d8576b\"], [0.6666666666666666, \"#ed7953\"], [0.7777777777777778, \"#fb9f3a\"], [0.8888888888888888, \"#fdca26\"], [1.0, \"#f0f921\"]], \"sequentialminus\": [[0.0, \"#0d0887\"], [0.1111111111111111, \"#46039f\"], [0.2222222222222222, \"#7201a8\"], [0.3333333333333333, \"#9c179e\"], [0.4444444444444444, \"#bd3786\"], [0.5555555555555556, \"#d8576b\"], [0.6666666666666666, \"#ed7953\"], [0.7777777777777778, \"#fb9f3a\"], [0.8888888888888888, \"#fdca26\"], [1.0, \"#f0f921\"]]}, \"colorway\": [\"#636efa\", \"#EF553B\", \"#00cc96\", \"#ab63fa\", \"#FFA15A\", \"#19d3f3\", \"#FF6692\", \"#B6E880\", \"#FF97FF\", \"#FECB52\"], \"font\": {\"color\": \"#2a3f5f\"}, \"geo\": {\"bgcolor\": \"white\", \"lakecolor\": \"white\", \"landcolor\": \"#E5ECF6\", \"showlakes\": true, \"showland\": true, \"subunitcolor\": \"white\"}, \"hoverlabel\": {\"align\": \"left\"}, \"hovermode\": \"closest\", \"mapbox\": {\"style\": \"light\"}, \"paper_bgcolor\": \"white\", \"plot_bgcolor\": \"#E5ECF6\", \"polar\": {\"angularaxis\": {\"gridcolor\": \"white\", \"linecolor\": \"white\", \"ticks\": \"\"}, \"bgcolor\": \"#E5ECF6\", \"radialaxis\": {\"gridcolor\": \"white\", \"linecolor\": \"white\", \"ticks\": \"\"}}, \"scene\": {\"xaxis\": {\"backgroundcolor\": \"#E5ECF6\", \"gridcolor\": \"white\", \"gridwidth\": 2, \"linecolor\": \"white\", \"showbackground\": true, \"ticks\": \"\", \"zerolinecolor\": \"white\"}, \"yaxis\": {\"backgroundcolor\": \"#E5ECF6\", \"gridcolor\": \"white\", \"gridwidth\": 2, \"linecolor\": \"white\", \"showbackground\": true, \"ticks\": \"\", \"zerolinecolor\": \"white\"}, \"zaxis\": {\"backgroundcolor\": \"#E5ECF6\", \"gridcolor\": \"white\", \"gridwidth\": 2, \"linecolor\": \"white\", \"showbackground\": true, \"ticks\": \"\", \"zerolinecolor\": \"white\"}}, \"shapedefaults\": {\"line\": {\"color\": \"#2a3f5f\"}}, \"ternary\": {\"aaxis\": {\"gridcolor\": \"white\", \"linecolor\": \"white\", \"ticks\": \"\"}, \"baxis\": {\"gridcolor\": \"white\", \"linecolor\": \"white\", \"ticks\": \"\"}, \"bgcolor\": \"#E5ECF6\", \"caxis\": {\"gridcolor\": \"white\", \"linecolor\": \"white\", \"ticks\": \"\"}}, \"title\": {\"x\": 0.05}, \"xaxis\": {\"automargin\": true, \"gridcolor\": \"white\", \"linecolor\": \"white\", \"ticks\": \"\", \"title\": {\"standoff\": 15}, \"zerolinecolor\": \"white\", \"zerolinewidth\": 2}, \"yaxis\": {\"automargin\": true, \"gridcolor\": \"white\", \"linecolor\": \"white\", \"ticks\": \"\", \"title\": {\"standoff\": 15}, \"zerolinecolor\": \"white\", \"zerolinewidth\": 2}}}, \"title\": {\"text\": \"Figure 20: rate of black cases on state population\", \"x\": 0.5}},                        {\"responsive\": true}                    ).then(function(){\n",
       "                            \n",
       "var gd = document.getElementById('6c534455-6749-4f4c-98ef-a89b89830e1c');\n",
       "var x = new MutationObserver(function (mutations, observer) {{\n",
       "        var display = window.getComputedStyle(gd).display;\n",
       "        if (!display || display === 'none') {{\n",
       "            console.log([gd, 'removed!']);\n",
       "            Plotly.purge(gd);\n",
       "            observer.disconnect();\n",
       "        }}\n",
       "}});\n",
       "\n",
       "// Listen for the removal of the full notebook cells\n",
       "var notebookContainer = gd.closest('#notebook-container');\n",
       "if (notebookContainer) {{\n",
       "    x.observe(notebookContainer, {childList: true});\n",
       "}}\n",
       "\n",
       "// Listen for the clearing of the current output cell\n",
       "var outputEl = gd.closest('.output');\n",
       "if (outputEl) {{\n",
       "    x.observe(outputEl, {childList: true});\n",
       "}}\n",
       "\n",
       "                        })                };                });            </script>        </div>"
      ]
     },
     "metadata": {},
     "output_type": "display_data"
    }
   ],
   "source": [
    "import plotly.express as px\n",
    "state_rate = pd.DataFrame({'state': pop_black.state,\n",
    "                           'kills_rate_black': list(pop_black.kills_rate_black)})\n",
    "\n",
    "fig = px.choropleth(state_rate, locations='state', locationmode='USA-states', \n",
    "                    color='kills_rate_black',\n",
    "                    range_color=(state_rate.kills_rate_black.min(),\n",
    "                                 state_rate.kills_rate_black.max()),\n",
    "                    scope=\"usa\",color_continuous_scale='reds', \n",
    "                    labels={'kills_rate_black': 'rate of kills for black population'},\n",
    "                    title='Figure 20: rate of black cases on state population')\n",
    "\n",
    "fig.update_layout(title_x = 0.5)\n",
    "fig.show()"
   ]
  },
  {
   "cell_type": "markdown",
   "id": "opponent-particular",
   "metadata": {},
   "source": [
    "# Is there any political link between the deaths and the police actions?"
   ]
  },
  {
   "cell_type": "markdown",
   "id": "about-coupon",
   "metadata": {},
   "source": [
    "Downloaded (https://github.com/tonmcg/US_County_Level_Election_Results_08-20) and imported the 2016 US election dataset, and then merged with the previous dataframe 'pop_black'. \n",
    "The aim is to define the possible correlation between the rate of black victims and the vote in those state where repubblican's representative, Donald Trump, won in 2016."
   ]
  },
  {
   "cell_type": "code",
   "execution_count": 253,
   "id": "fourth-vocabulary",
   "metadata": {},
   "outputs": [
    {
     "data": {
      "text/html": [
       "<div>\n",
       "<style scoped>\n",
       "    .dataframe tbody tr th:only-of-type {\n",
       "        vertical-align: middle;\n",
       "    }\n",
       "\n",
       "    .dataframe tbody tr th {\n",
       "        vertical-align: top;\n",
       "    }\n",
       "\n",
       "    .dataframe thead th {\n",
       "        text-align: right;\n",
       "    }\n",
       "</style>\n",
       "<table border=\"1\" class=\"dataframe\">\n",
       "  <thead>\n",
       "    <tr style=\"text-align: right;\">\n",
       "      <th></th>\n",
       "      <th>state</th>\n",
       "      <th>dem</th>\n",
       "      <th>rep</th>\n",
       "    </tr>\n",
       "  </thead>\n",
       "  <tbody>\n",
       "    <tr>\n",
       "      <th>0</th>\n",
       "      <td>AK</td>\n",
       "      <td>93003.0</td>\n",
       "      <td>130413.0</td>\n",
       "    </tr>\n",
       "    <tr>\n",
       "      <th>1</th>\n",
       "      <td>AL</td>\n",
       "      <td>718084.0</td>\n",
       "      <td>1306925.0</td>\n",
       "    </tr>\n",
       "    <tr>\n",
       "      <th>2</th>\n",
       "      <td>AR</td>\n",
       "      <td>378729.0</td>\n",
       "      <td>677904.0</td>\n",
       "    </tr>\n",
       "    <tr>\n",
       "      <th>3</th>\n",
       "      <td>AZ</td>\n",
       "      <td>936250.0</td>\n",
       "      <td>1021154.0</td>\n",
       "    </tr>\n",
       "    <tr>\n",
       "      <th>4</th>\n",
       "      <td>CA</td>\n",
       "      <td>7362490.0</td>\n",
       "      <td>3916209.0</td>\n",
       "    </tr>\n",
       "  </tbody>\n",
       "</table>\n",
       "</div>"
      ],
      "text/plain": [
       "  state        dem        rep\n",
       "0    AK    93003.0   130413.0\n",
       "1    AL   718084.0  1306925.0\n",
       "2    AR   378729.0   677904.0\n",
       "3    AZ   936250.0  1021154.0\n",
       "4    CA  7362490.0  3916209.0"
      ]
     },
     "execution_count": 253,
     "metadata": {},
     "output_type": "execute_result"
    }
   ],
   "source": [
    "US_election_2016 = pd.read_csv(r'2016_US_County_Level_Presidential_Results.csv')\n",
    "US_election_2016= US_election_2016[['votes_dem', 'votes_gop', 'state_abbr']]#keep columns I need\n",
    "US_election_2016.columns=['dem', 'rep', 'state'] #rename\n",
    "US_election_2016=US_election_2016.drop_duplicates() #drop eventual duplicates\n",
    "US_election_2016= US_election_2016.groupby('state').sum() #group the values by state\n",
    "US_election_2016=US_election_2016.reset_index().sort_values(by=['state']) #alphabetical sorting\n",
    "US_election_2016.head()"
   ]
  },
  {
   "cell_type": "code",
   "execution_count": 254,
   "id": "downtown-colon",
   "metadata": {},
   "outputs": [
    {
     "data": {
      "text/html": [
       "<div>\n",
       "<style scoped>\n",
       "    .dataframe tbody tr th:only-of-type {\n",
       "        vertical-align: middle;\n",
       "    }\n",
       "\n",
       "    .dataframe tbody tr th {\n",
       "        vertical-align: top;\n",
       "    }\n",
       "\n",
       "    .dataframe thead th {\n",
       "        text-align: right;\n",
       "    }\n",
       "</style>\n",
       "<table border=\"1\" class=\"dataframe\">\n",
       "  <thead>\n",
       "    <tr style=\"text-align: right;\">\n",
       "      <th></th>\n",
       "      <th>state</th>\n",
       "      <th>dem</th>\n",
       "      <th>rep</th>\n",
       "      <th>tot_pop_black</th>\n",
       "      <th>tot_black_kills</th>\n",
       "      <th>kills_rate_black</th>\n",
       "      <th>win</th>\n",
       "    </tr>\n",
       "  </thead>\n",
       "  <tbody>\n",
       "    <tr>\n",
       "      <th>24</th>\n",
       "      <td>MO</td>\n",
       "      <td>1054889.0</td>\n",
       "      <td>1585753.0</td>\n",
       "      <td>11278</td>\n",
       "      <td>54.0</td>\n",
       "      <td>0.478808</td>\n",
       "      <td>rep</td>\n",
       "    </tr>\n",
       "    <tr>\n",
       "      <th>18</th>\n",
       "      <td>LA</td>\n",
       "      <td>779535.0</td>\n",
       "      <td>1178004.0</td>\n",
       "      <td>26929</td>\n",
       "      <td>68.0</td>\n",
       "      <td>0.252516</td>\n",
       "      <td>rep</td>\n",
       "    </tr>\n",
       "    <tr>\n",
       "      <th>43</th>\n",
       "      <td>WI</td>\n",
       "      <td>1380823.0</td>\n",
       "      <td>1403694.0</td>\n",
       "      <td>9770</td>\n",
       "      <td>22.0</td>\n",
       "      <td>0.225179</td>\n",
       "      <td>rep</td>\n",
       "    </tr>\n",
       "    <tr>\n",
       "      <th>26</th>\n",
       "      <td>NC</td>\n",
       "      <td>2162074.0</td>\n",
       "      <td>2339603.0</td>\n",
       "      <td>26761</td>\n",
       "      <td>55.0</td>\n",
       "      <td>0.205523</td>\n",
       "      <td>rep</td>\n",
       "    </tr>\n",
       "    <tr>\n",
       "      <th>39</th>\n",
       "      <td>TX</td>\n",
       "      <td>3867816.0</td>\n",
       "      <td>4681590.0</td>\n",
       "      <td>55472</td>\n",
       "      <td>113.0</td>\n",
       "      <td>0.203706</td>\n",
       "      <td>rep</td>\n",
       "    </tr>\n",
       "  </tbody>\n",
       "</table>\n",
       "</div>"
      ],
      "text/plain": [
       "   state        dem        rep  tot_pop_black  tot_black_kills  \\\n",
       "24    MO  1054889.0  1585753.0          11278             54.0   \n",
       "18    LA   779535.0  1178004.0          26929             68.0   \n",
       "43    WI  1380823.0  1403694.0           9770             22.0   \n",
       "26    NC  2162074.0  2339603.0          26761             55.0   \n",
       "39    TX  3867816.0  4681590.0          55472            113.0   \n",
       "\n",
       "    kills_rate_black  win  \n",
       "24          0.478808  rep  \n",
       "18          0.252516  rep  \n",
       "43          0.225179  rep  \n",
       "26          0.205523  rep  \n",
       "39          0.203706  rep  "
      ]
     },
     "execution_count": 254,
     "metadata": {},
     "output_type": "execute_result"
    }
   ],
   "source": [
    "df_final= pd.merge(US_election_2016, pop_black) #merge the black kills rate DF with the one with election results\n",
    "df_final=df_final.sort_values(by=['kills_rate_black'], ascending=False)\n",
    "#create new column: for each state, if republicans votes > democratics votes: 'rep', else: 'dem'\n",
    "df_final['win'] = np.where(df_final['rep'] > df_final['dem'], 'rep', 'dem') \n",
    "df_final.head() "
   ]
  },
  {
   "cell_type": "markdown",
   "id": "representative-germany",
   "metadata": {},
   "source": [
    "The figure 21 shows that the top 8 state as regards the rate of black kills have seen the victory of Trump's party at the 2016 election.\n",
    "Interestingly, 7 of the 8 last states in the concern of black kills rate have seen the democrats prevail.\n",
    "\n",
    "The data show that in the states where Trump won, there have been more black people victim of police, rather than in those where democrats prevail.\n",
    "\n",
    "The police could have acted harder against blacks, who could have been considered more dangerous due to the white supremacism narrative of Trump's supporters. "
   ]
  },
  {
   "cell_type": "code",
   "execution_count": 256,
   "id": "geological-reach",
   "metadata": {},
   "outputs": [
    {
     "data": {
      "image/png": "[encoded data removed]",
      "text/plain": [
       "<Figure size 1008x432 with 1 Axes>"
      ]
     },
     "metadata": {
      "needs_background": "light"
     },
     "output_type": "display_data"
    }
   ],
   "source": [
    "plt.figure(figsize=(14,6))\n",
    "sns.scatterplot(data=df_final, x=\"state\", y=\"kills_rate_black\", hue=\"win\")\n",
    "plt.title('Figure 21: rate of black victims by county election victory')\n",
    "plt.show()"
   ]
  },
  {
   "cell_type": "markdown",
   "id": "quantitative-manor",
   "metadata": {},
   "source": [
    "Finally, I wanted to find a possible correlation between the states with highest number of cases and the lack of school education within the black community.\n",
    "Data obtained from: https://nces.ed.gov/ccd/tables/ACGR_RE_and_characteristics_2016-17.asp"
   ]
  },
  {
   "cell_type": "code",
   "execution_count": 257,
   "id": "powerful-integration",
   "metadata": {},
   "outputs": [],
   "source": [
    "hs_race = pd.read_csv('hs_race.csv') #import dataset and replace 0.0 with not a number\n",
    "hs_race=hs_race.replace(0.0, np.nan)"
   ]
  },
  {
   "cell_type": "code",
   "execution_count": 258,
   "id": "electric-potato",
   "metadata": {},
   "outputs": [],
   "source": [
    "hs_race.loc[-1] = hs_race.mean().round(2)  # adding a row with the US average percent of students \n",
    "hs_race = hs_race.sort_index()"
   ]
  },
  {
   "cell_type": "code",
   "execution_count": 259,
   "id": "through-technician",
   "metadata": {},
   "outputs": [
    {
     "data": {
      "text/html": [
       "<div>\n",
       "<style scoped>\n",
       "    .dataframe tbody tr th:only-of-type {\n",
       "        vertical-align: middle;\n",
       "    }\n",
       "\n",
       "    .dataframe tbody tr th {\n",
       "        vertical-align: top;\n",
       "    }\n",
       "\n",
       "    .dataframe thead th {\n",
       "        text-align: right;\n",
       "    }\n",
       "</style>\n",
       "<table border=\"1\" class=\"dataframe\">\n",
       "  <thead>\n",
       "    <tr style=\"text-align: right;\">\n",
       "      <th></th>\n",
       "      <th>state</th>\n",
       "      <th>american indian</th>\n",
       "      <th>asian</th>\n",
       "      <th>hispanic</th>\n",
       "      <th>black</th>\n",
       "      <th>white</th>\n",
       "    </tr>\n",
       "  </thead>\n",
       "  <tbody>\n",
       "    <tr>\n",
       "      <th>-1</th>\n",
       "      <td>Mean</td>\n",
       "      <td>74.72</td>\n",
       "      <td>90.66</td>\n",
       "      <td>78.39</td>\n",
       "      <td>77.14</td>\n",
       "      <td>87.84</td>\n",
       "    </tr>\n",
       "    <tr>\n",
       "      <th>0</th>\n",
       "      <td>AL</td>\n",
       "      <td>NaN</td>\n",
       "      <td>NaN</td>\n",
       "      <td>88.00</td>\n",
       "      <td>86.50</td>\n",
       "      <td>91.00</td>\n",
       "    </tr>\n",
       "    <tr>\n",
       "      <th>1</th>\n",
       "      <td>AK</td>\n",
       "      <td>69.00</td>\n",
       "      <td>88.00</td>\n",
       "      <td>77.00</td>\n",
       "      <td>74.00</td>\n",
       "      <td>82.20</td>\n",
       "    </tr>\n",
       "    <tr>\n",
       "      <th>2</th>\n",
       "      <td>AR</td>\n",
       "      <td>66.80</td>\n",
       "      <td>NaN</td>\n",
       "      <td>74.50</td>\n",
       "      <td>73.80</td>\n",
       "      <td>82.80</td>\n",
       "    </tr>\n",
       "    <tr>\n",
       "      <th>3</th>\n",
       "      <td>AZ</td>\n",
       "      <td>89.00</td>\n",
       "      <td>92.00</td>\n",
       "      <td>85.70</td>\n",
       "      <td>83.40</td>\n",
       "      <td>90.00</td>\n",
       "    </tr>\n",
       "  </tbody>\n",
       "</table>\n",
       "</div>"
      ],
      "text/plain": [
       "   state  american indian  asian  hispanic  black  white\n",
       "-1  Mean            74.72  90.66     78.39  77.14  87.84\n",
       " 0    AL              NaN    NaN     88.00  86.50  91.00\n",
       " 1    AK            69.00  88.00     77.00  74.00  82.20\n",
       " 2    AR            66.80    NaN     74.50  73.80  82.80\n",
       " 3    AZ            89.00  92.00     85.70  83.40  90.00"
      ]
     },
     "execution_count": 259,
     "metadata": {},
     "output_type": "execute_result"
    }
   ],
   "source": [
    "hs_race['state'] = hs_race['state'].replace(np.nan, 'Mean')\n",
    "hs_race.head() #dataframe below shows how black community have a low student percentage"
   ]
  },
  {
   "cell_type": "markdown",
   "id": "familiar-twist",
   "metadata": {},
   "source": [
    "Down below (figure 22), I plotted the states with the lowest (under the 'mean' threshold) percentage of black students.\n",
    "Since my previous analysis uncovered that YOUNG black guys are the most killed among the other groups, I wanted to find which state have the lowest rate of black students.\n",
    "\n",
    "Among the states with the percent of student below the national average, I found that 4 of them have had the victory of Trump; further, those 4 counties are found within the 8 states with highest rate of black deaths. \n",
    "\n",
    "Students who do not attend school might stand in the street and possibly act in a criminal way (or supposed so).\n",
    "This fact could be felt as a threat by local population, who then voted for the nationalist and white supremacist Donald Trump. Maybe, the police officers, whom are part of the local population could have felt the same and therefore, force their action towards young blacks.\n",
    "\n",
    "\n"
   ]
  },
  {
   "cell_type": "code",
   "execution_count": 260,
   "id": "vanilla-remark",
   "metadata": {},
   "outputs": [
    {
     "data": {
      "image/png": "[encoded data removed]",
      "text/plain": [
       "<Figure size 864x432 with 1 Axes>"
      ]
     },
     "metadata": {
      "needs_background": "light"
     },
     "output_type": "display_data"
    }
   ],
   "source": [
    "hs_race=hs_race.sort_values(by=['black'], ascending=True)\n",
    "plt.figure(figsize=(12,6))\n",
    "sns.barplot(data=hs_race, x=hs_race['state'][:24], y=\"black\")\n",
    "plt.title('Figure 22: percentage of students below national average by state')\n",
    "plt.show()"
   ]
  },
  {
   "cell_type": "markdown",
   "id": "described-mineral",
   "metadata": {},
   "source": [
    "  "
   ]
  },
  {
   "cell_type": "markdown",
   "id": "norwegian-professor",
   "metadata": {},
   "source": [
    "In order to confirm the previous assertion, I decided to find which are the top 10 states involved in young black cases.\n",
    "Indeed, in the next analysis I took the age intervals (15-19 and 20-24), which I previously encounted to have the highest number of black guys killed, and performed an age analysis by 'race' and state. \n",
    "\n",
    "After the upload of the datset from https://www.census.gov/data/tables/time-series/demo/popest/2010s-state-detail.html, \n",
    "I defined a new dataframe about age intervals per state: then, I calculated the rate of black young victims for each state.\n"
   ]
  },
  {
   "cell_type": "code",
   "execution_count": 261,
   "id": "outdoor-sheet",
   "metadata": {},
   "outputs": [
    {
     "data": {
      "text/html": [
       "<div>\n",
       "<style scoped>\n",
       "    .dataframe tbody tr th:only-of-type {\n",
       "        vertical-align: middle;\n",
       "    }\n",
       "\n",
       "    .dataframe tbody tr th {\n",
       "        vertical-align: top;\n",
       "    }\n",
       "\n",
       "    .dataframe thead th {\n",
       "        text-align: right;\n",
       "    }\n",
       "</style>\n",
       "<table border=\"1\" class=\"dataframe\">\n",
       "  <thead>\n",
       "    <tr style=\"text-align: right;\">\n",
       "      <th></th>\n",
       "      <th>state</th>\n",
       "      <th>race</th>\n",
       "      <th>age</th>\n",
       "      <th>population</th>\n",
       "    </tr>\n",
       "  </thead>\n",
       "  <tbody>\n",
       "    <tr>\n",
       "      <th>86</th>\n",
       "      <td>Alabama</td>\n",
       "      <td>black</td>\n",
       "      <td>0</td>\n",
       "      <td>19322</td>\n",
       "    </tr>\n",
       "    <tr>\n",
       "      <th>87</th>\n",
       "      <td>Alabama</td>\n",
       "      <td>black</td>\n",
       "      <td>1</td>\n",
       "      <td>19511</td>\n",
       "    </tr>\n",
       "    <tr>\n",
       "      <th>88</th>\n",
       "      <td>Alabama</td>\n",
       "      <td>black</td>\n",
       "      <td>2</td>\n",
       "      <td>19075</td>\n",
       "    </tr>\n",
       "    <tr>\n",
       "      <th>89</th>\n",
       "      <td>Alabama</td>\n",
       "      <td>black</td>\n",
       "      <td>3</td>\n",
       "      <td>19109</td>\n",
       "    </tr>\n",
       "    <tr>\n",
       "      <th>90</th>\n",
       "      <td>Alabama</td>\n",
       "      <td>black</td>\n",
       "      <td>4</td>\n",
       "      <td>19508</td>\n",
       "    </tr>\n",
       "  </tbody>\n",
       "</table>\n",
       "</div>"
      ],
      "text/plain": [
       "      state   race  age  population\n",
       "86  Alabama  black    0       19322\n",
       "87  Alabama  black    1       19511\n",
       "88  Alabama  black    2       19075\n",
       "89  Alabama  black    3       19109\n",
       "90  Alabama  black    4       19508"
      ]
     },
     "execution_count": 261,
     "metadata": {},
     "output_type": "execute_result"
    }
   ],
   "source": [
    "age_df = pd.read_csv('sc-est2019-alldata5.csv')\n",
    "age_df = age_df[['NAME', 'RACE', 'AGE', 'POPESTIMATE2019']]\n",
    "age_df.columns = ['state', 'race', 'age', 'population']\n",
    "age_df['race']= np.where(age_df['race']==2, 'black', 'others') #just find black people. Other races named as 'others'\n",
    "#age_df = age_df.groupby('state')['age'].mean()\n",
    "ixx = age_df[age_df['race'] == 'others'].index\n",
    "age_df.drop(ixx, inplace=True) #drop columns without black mates\n",
    "age_df.head()\n"
   ]
  },
  {
   "cell_type": "code",
   "execution_count": 262,
   "id": "executed-value",
   "metadata": {},
   "outputs": [
    {
     "data": {
      "text/html": [
       "<div>\n",
       "<style scoped>\n",
       "    .dataframe tbody tr th:only-of-type {\n",
       "        vertical-align: middle;\n",
       "    }\n",
       "\n",
       "    .dataframe tbody tr th {\n",
       "        vertical-align: top;\n",
       "    }\n",
       "\n",
       "    .dataframe thead th {\n",
       "        text-align: right;\n",
       "    }\n",
       "</style>\n",
       "<table border=\"1\" class=\"dataframe\">\n",
       "  <thead>\n",
       "    <tr style=\"text-align: right;\">\n",
       "      <th></th>\n",
       "      <th>age</th>\n",
       "      <th>state</th>\n",
       "      <th>population</th>\n",
       "    </tr>\n",
       "  </thead>\n",
       "  <tbody>\n",
       "    <tr>\n",
       "      <th>0</th>\n",
       "      <td>0-4</td>\n",
       "      <td>Alabama</td>\n",
       "      <td>384380</td>\n",
       "    </tr>\n",
       "    <tr>\n",
       "      <th>1</th>\n",
       "      <td>0-4</td>\n",
       "      <td>Alaska</td>\n",
       "      <td>15388</td>\n",
       "    </tr>\n",
       "    <tr>\n",
       "      <th>2</th>\n",
       "      <td>0-4</td>\n",
       "      <td>Arizona</td>\n",
       "      <td>155916</td>\n",
       "    </tr>\n",
       "    <tr>\n",
       "      <th>3</th>\n",
       "      <td>0-4</td>\n",
       "      <td>Arkansas</td>\n",
       "      <td>165692</td>\n",
       "    </tr>\n",
       "    <tr>\n",
       "      <th>4</th>\n",
       "      <td>0-4</td>\n",
       "      <td>California</td>\n",
       "      <td>809780</td>\n",
       "    </tr>\n",
       "  </tbody>\n",
       "</table>\n",
       "</div>"
      ],
      "text/plain": [
       "   age       state  population\n",
       "0  0-4     Alabama      384380\n",
       "1  0-4      Alaska       15388\n",
       "2  0-4     Arizona      155916\n",
       "3  0-4    Arkansas      165692\n",
       "4  0-4  California      809780"
      ]
     },
     "execution_count": 262,
     "metadata": {},
     "output_type": "execute_result"
    }
   ],
   "source": [
    "b = ['0-4','5-9', '10-14','15-19','20-24','25-29','30-34',\n",
    "         '35-39','40-44','45-49', '50-54', '55-59', \n",
    "        '60-64', '65-69', '70-100']\n",
    "age_df['age'] = pd.cut(x=age_df['age'], #create column with age intervals\n",
    "                             bins=[0, 5, 10, 15, 20, 25, 30, 35, 40, 45, 50, 55, 60, 65, 70, 100], \n",
    "                             labels=b)\n",
    "age_df = age_df.groupby(['age','state'])['population'].sum().reset_index() #create new DF with the population size of states for each age interval\n",
    "age_df.head()\n"
   ]
  },
  {
   "cell_type": "code",
   "execution_count": 263,
   "id": "median-lexington",
   "metadata": {},
   "outputs": [],
   "source": [
    "#creating two subdataframes about 15-19 and 20-24 intervals, which I found to have greater number of deaths in black community\n",
    "age_df_1 = age_df[(age_df.age  == \"15-19\")]\n",
    "age_df_2 = age_df[(age_df.age  == \"20-24\")]\n",
    "age_df_1.columns = ['age_15-19', 'state', 'population_15-19']\n",
    "age_df_2.columns = ['age_20-24', 'state', 'population_20-24']"
   ]
  },
  {
   "cell_type": "code",
   "execution_count": 264,
   "id": "increased-object",
   "metadata": {},
   "outputs": [
    {
     "data": {
      "text/html": [
       "<div>\n",
       "<style scoped>\n",
       "    .dataframe tbody tr th:only-of-type {\n",
       "        vertical-align: middle;\n",
       "    }\n",
       "\n",
       "    .dataframe tbody tr th {\n",
       "        vertical-align: top;\n",
       "    }\n",
       "\n",
       "    .dataframe thead th {\n",
       "        text-align: right;\n",
       "    }\n",
       "</style>\n",
       "<table border=\"1\" class=\"dataframe\">\n",
       "  <thead>\n",
       "    <tr style=\"text-align: right;\">\n",
       "      <th></th>\n",
       "      <th>state</th>\n",
       "      <th>age_15-19</th>\n",
       "      <th>population_15-19</th>\n",
       "      <th>age_20-24</th>\n",
       "      <th>population_20-24</th>\n",
       "    </tr>\n",
       "  </thead>\n",
       "  <tbody>\n",
       "    <tr>\n",
       "      <th>0</th>\n",
       "      <td>AL</td>\n",
       "      <td>15-19</td>\n",
       "      <td>409952</td>\n",
       "      <td>20-24</td>\n",
       "      <td>416840</td>\n",
       "    </tr>\n",
       "    <tr>\n",
       "      <th>1</th>\n",
       "      <td>AK</td>\n",
       "      <td>15-19</td>\n",
       "      <td>13428</td>\n",
       "      <td>20-24</td>\n",
       "      <td>16484</td>\n",
       "    </tr>\n",
       "    <tr>\n",
       "      <th>2</th>\n",
       "      <td>AR</td>\n",
       "      <td>15-19</td>\n",
       "      <td>154776</td>\n",
       "      <td>20-24</td>\n",
       "      <td>161280</td>\n",
       "    </tr>\n",
       "    <tr>\n",
       "      <th>3</th>\n",
       "      <td>AZ</td>\n",
       "      <td>15-19</td>\n",
       "      <td>159188</td>\n",
       "      <td>20-24</td>\n",
       "      <td>160768</td>\n",
       "    </tr>\n",
       "    <tr>\n",
       "      <th>4</th>\n",
       "      <td>CA</td>\n",
       "      <td>15-19</td>\n",
       "      <td>877880</td>\n",
       "      <td>20-24</td>\n",
       "      <td>973048</td>\n",
       "    </tr>\n",
       "  </tbody>\n",
       "</table>\n",
       "</div>"
      ],
      "text/plain": [
       "  state age_15-19  population_15-19 age_20-24  population_20-24\n",
       "0    AL     15-19            409952     20-24            416840\n",
       "1    AK     15-19             13428     20-24             16484\n",
       "2    AR     15-19            154776     20-24            161280\n",
       "3    AZ     15-19            159188     20-24            160768\n",
       "4    CA     15-19            877880     20-24            973048"
      ]
     },
     "execution_count": 264,
     "metadata": {},
     "output_type": "execute_result"
    }
   ],
   "source": [
    "age_df_final = pd.merge(age_df_1, age_df_2, on=['state']) #merge the subdataframes\n",
    "\n",
    "#change whole name of states with abbreviation\n",
    "data=np.array([ 'AL','AK', 'AR', 'AZ', 'CA', 'CO', 'CT',  'DE', 'DC', 'FL', 'GA', 'HI',  'ID', 'IL', 'IN', 'IA',\n",
    "               'KS', 'KY', 'LA', 'ME','MD', 'MA', 'MI',  'MN', 'MS', 'MO',  'MT', 'NE',  'NV',   'NH', 'NJ', 'NM','NY','NC',   \n",
    "                 'ND',   'OH',  'OK',  'OR',  'PA',  'RI',  'SC',  'SD',  \n",
    "                'TN', 'TX', 'UT',  'VT', 'VA', 'WA', 'WV','WI',  'WY'], dtype='O')\n",
    "a = pd.DataFrame({'state': data})   \n",
    "age_df_final = age_df_final.assign(state=a['state']) \n",
    "\n",
    "#move 'state' column to 0 position\n",
    "first_column = age_df_final.pop('state') \n",
    "age_df_final.insert(0, 'state', first_column) \n",
    "age_df_final.head()"
   ]
  },
  {
   "cell_type": "code",
   "execution_count": 265,
   "id": "adjusted-millennium",
   "metadata": {},
   "outputs": [
    {
     "data": {
      "text/html": [
       "<div>\n",
       "<style scoped>\n",
       "    .dataframe tbody tr th:only-of-type {\n",
       "        vertical-align: middle;\n",
       "    }\n",
       "\n",
       "    .dataframe tbody tr th {\n",
       "        vertical-align: top;\n",
       "    }\n",
       "\n",
       "    .dataframe thead th {\n",
       "        text-align: right;\n",
       "    }\n",
       "</style>\n",
       "<table border=\"1\" class=\"dataframe\">\n",
       "  <thead>\n",
       "    <tr style=\"text-align: right;\">\n",
       "      <th></th>\n",
       "      <th>state</th>\n",
       "      <th>age_15-19</th>\n",
       "      <th>population_15-19</th>\n",
       "      <th>age_20-24</th>\n",
       "      <th>population_20-24</th>\n",
       "      <th>kills_by_age_15-19</th>\n",
       "      <th>kills_by_age_20-24</th>\n",
       "      <th>kills_rate_15-19</th>\n",
       "      <th>kills_rate_20-24</th>\n",
       "    </tr>\n",
       "  </thead>\n",
       "  <tbody>\n",
       "    <tr>\n",
       "      <th>0</th>\n",
       "      <td>AL</td>\n",
       "      <td>15-19</td>\n",
       "      <td>409952</td>\n",
       "      <td>20-24</td>\n",
       "      <td>416840</td>\n",
       "      <td>17</td>\n",
       "      <td>9</td>\n",
       "      <td>0.004147</td>\n",
       "      <td>0.002159</td>\n",
       "    </tr>\n",
       "    <tr>\n",
       "      <th>1</th>\n",
       "      <td>AR</td>\n",
       "      <td>15-19</td>\n",
       "      <td>154776</td>\n",
       "      <td>20-24</td>\n",
       "      <td>161280</td>\n",
       "      <td>16</td>\n",
       "      <td>2</td>\n",
       "      <td>0.010338</td>\n",
       "      <td>0.001240</td>\n",
       "    </tr>\n",
       "    <tr>\n",
       "      <th>2</th>\n",
       "      <td>AZ</td>\n",
       "      <td>15-19</td>\n",
       "      <td>159188</td>\n",
       "      <td>20-24</td>\n",
       "      <td>160768</td>\n",
       "      <td>20</td>\n",
       "      <td>5</td>\n",
       "      <td>0.012564</td>\n",
       "      <td>0.003110</td>\n",
       "    </tr>\n",
       "    <tr>\n",
       "      <th>3</th>\n",
       "      <td>CA</td>\n",
       "      <td>15-19</td>\n",
       "      <td>877880</td>\n",
       "      <td>20-24</td>\n",
       "      <td>973048</td>\n",
       "      <td>26</td>\n",
       "      <td>96</td>\n",
       "      <td>0.002962</td>\n",
       "      <td>0.009866</td>\n",
       "    </tr>\n",
       "    <tr>\n",
       "      <th>4</th>\n",
       "      <td>CO</td>\n",
       "      <td>15-19</td>\n",
       "      <td>108588</td>\n",
       "      <td>20-24</td>\n",
       "      <td>115512</td>\n",
       "      <td>16</td>\n",
       "      <td>31</td>\n",
       "      <td>0.014735</td>\n",
       "      <td>0.026837</td>\n",
       "    </tr>\n",
       "  </tbody>\n",
       "</table>\n",
       "</div>"
      ],
      "text/plain": [
       "  state age_15-19  population_15-19 age_20-24  population_20-24  \\\n",
       "0    AL     15-19            409952     20-24            416840   \n",
       "1    AR     15-19            154776     20-24            161280   \n",
       "2    AZ     15-19            159188     20-24            160768   \n",
       "3    CA     15-19            877880     20-24            973048   \n",
       "4    CO     15-19            108588     20-24            115512   \n",
       "\n",
       "   kills_by_age_15-19  kills_by_age_20-24  kills_rate_15-19  kills_rate_20-24  \n",
       "0                  17                   9          0.004147          0.002159  \n",
       "1                  16                   2          0.010338          0.001240  \n",
       "2                  20                   5          0.012564          0.003110  \n",
       "3                  26                  96          0.002962          0.009866  \n",
       "4                  16                  31          0.014735          0.026837  "
      ]
     },
     "execution_count": 265,
     "metadata": {},
     "output_type": "execute_result"
    }
   ],
   "source": [
    "#in order to calculate the rate of kills I'll avail of previous DF kills_1 which have the count of black victims and age interval\n",
    "kills_by_age_1=kills_1.loc[(kills_1['age_bins']== '15-19') &\n",
    "            (kills_1['race']== 'Black')].groupby(['state'])['Black'].count().reset_index()\n",
    "kills_by_age_1.columns=['state', 'kills_by_age_15-19'] #create the column with the count of victims per the age 15-19 \n",
    "kills_by_age_2 = kills_1.loc[(kills_1['age_bins']== '20-24') &\n",
    "            (kills_1['race']== 'Black')].groupby(['state'])['Black'].count().reset_index()\n",
    "kills_by_age_2.columns=['state', 'kills_by_age_20-24']#create the column with the count of victims per the age 20-24\n",
    "\n",
    "kills_by_age= pd.merge(kills_by_age_1, kills_by_age_2) #merge the above DF\n",
    "age_df_final = pd.merge(age_df_final, kills_by_age) #finally merge with pop size DF\n",
    "\n",
    "age_df_final['kills_rate_15-19'] = age_df_final['kills_by_age_15-19']/age_df_final['population_15-19']*100 #rate of kills\n",
    "age_df_final['kills_rate_20-24'] = age_df_final['kills_by_age_20-24']/age_df_final['population_20-24']*100 #rate of kills\n",
    "age_df_final.head()"
   ]
  },
  {
   "cell_type": "code",
   "execution_count": 266,
   "id": "awful-carroll",
   "metadata": {},
   "outputs": [
    {
     "data": {
      "image/png": "[encoded data removed]",
      "text/plain": [
       "<Figure size 864x432 with 1 Axes>"
      ]
     },
     "metadata": {
      "needs_background": "light"
     },
     "output_type": "display_data"
    }
   ],
   "source": [
    "a = age_df_final.sort_values(by=['kills_rate_15-19'],ascending=False)\n",
    "plt.figure(figsize=(12,6))\n",
    "sns.barplot(data=a, x=a['state'][:10], y=\"kills_rate_15-19\")\n",
    "plt.title('Figure 23: rate of black victims by state at 15-19 age')\n",
    "plt.show()"
   ]
  },
  {
   "cell_type": "code",
   "execution_count": 267,
   "id": "determined-greenhouse",
   "metadata": {},
   "outputs": [
    {
     "data": {
      "image/png": "[encoded data removed]",
      "text/plain": [
       "<Figure size 864x432 with 1 Axes>"
      ]
     },
     "metadata": {
      "needs_background": "light"
     },
     "output_type": "display_data"
    }
   ],
   "source": [
    "a1 = age_df_final.sort_values(by=['kills_rate_20-24'],ascending=False)\n",
    "plt.figure(figsize=(12,6))\n",
    "sns.barplot(data=a1, x=a1['state'][:10], y=\"kills_rate_20-24\")\n",
    "plt.title('Figure 24: rate of black victims by state at 20-24 age')\n",
    "plt.show()"
   ]
  },
  {
   "cell_type": "markdown",
   "id": "fifty-lexington",
   "metadata": {},
   "source": [
    "The evidence have let me unravel that the highest rate black kills in the 15-19 interval (figure 23) occurred in 6 states (OR, CO, AR, MO, NV, WI) which are positioned below the US student's average percentage. \n",
    "In the figure 24, Oklahoma, is the only state to be above the national black student average; the rest 9 states are below that threshold.\n",
    "Furthermore, Missouri (MO) and Winsconsin (WI), which are at top 3 for preferring Trump in 2016 US elections, have found to be at the top 10 for the rate of black kills at 15-19 and 20-24 age.\n",
    "\n",
    "These results let me assume that the lack of school may have led to more victims. \n",
    "The data confirmed my previous assertion: not attending the school can lead guys in the street and therefore, to uncorrect behaviour. \n",
    "In fact, these street behaviours could be felt as a threat and could let the police to act stronger against them. \n",
    "\n",
    "\n",
    "\n",
    "\n"
   ]
  },
  {
   "cell_type": "markdown",
   "id": "gentle-fiction",
   "metadata": {},
   "source": [
    "  "
   ]
  },
  {
   "cell_type": "markdown",
   "id": "international-socket",
   "metadata": {},
   "source": [
    "\n",
    "Conclusions:\n",
    "\n",
    "1- The data about the rate of kills on the population size says that black community is the most involved in the cases of death by the hand of police.\n",
    "\n",
    "2- Given that black boys are the most killed at young age in comparison with other races and that, 2 of Trump's top 3 winning states are in the top 10 for young black victims rate, the police may have acted with a racial prejudice.\n",
    "\n",
    "3-Afterall, data may suggests that the improve of school policy towards black community may lead to a decrease of victims."
   ]
  }
 ],
 "metadata": {
  "kernelspec": {
   "display_name": "Python 3",
   "language": "python",
   "name": "python3"
  },
  "language_info": {
   "codemirror_mode": {
    "name": "ipython",
    "version": 3
   },
   "file_extension": ".py",
   "mimetype": "text/x-python",
   "name": "python",
   "nbconvert_exporter": "python",
   "pygments_lexer": "ipython3",
   "version": "3.8.3"
  }
 },
 "nbformat": 4,
 "nbformat_minor": 5
}
